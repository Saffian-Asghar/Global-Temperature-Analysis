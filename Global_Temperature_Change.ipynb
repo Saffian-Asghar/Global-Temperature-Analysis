{
  "cells": [
    {
      "cell_type": "markdown",
      "metadata": {
        "id": "thD5wzD_CnN_"
      },
      "source": [
        "# Ocean and Land Temperature Anomalies\n",
        "**The Boyz are back**\n",
        "\n",
        "\n",
        "---\n",
        "**Team Members**\n",
        "\n",
        "\n",
        "*   Saffian Asghar\n",
        "*   Alexis Culpin\n",
        "*   Romaric Sallustre\n",
        "*   Emilio Espinosa S.\n",
        "\n",
        "\n",
        "\n",
        "---\n",
        "\n",
        "\n",
        "**Datasets**\n",
        "\n",
        "* NOAA_URL = \"https://www.ncei.noaa.gov/access/monitoring/climate-at-a-glance/global/time-series/globe/land_ocean/1/12/1850-2023/data.json\"\n",
        "* BERKLEY_URL = \"https://berkeley-earth-temperature.s3.us-west-1.amazonaws.com/Global/Raw_TMAX_complete.txt\"\n",
        "* HAD_CRUT5_URL = \"https://www.metoffice.gov.uk/hadobs/hadcrut5/data/HadCRUT.5.0.2.0/analysis/diagnostics/HadCRUT.5.0.2.0.analysis.summary_series.global.monthly.csv\"\n",
        "\n",
        "\n",
        "\n",
        "---\n",
        "\n",
        "**Features**\n",
        "* The dataset is collected from NOAA, Berkeley Earth and CRUT5\n",
        "* The chosen time period is from 1850 - Present.\n",
        "* Some of the interesting columns are confidence limits in the dataset from CRUT 5.\n",
        "* The dataset from Berkley Earth has a range of missing values from 2012 to 2023 in specific columns.\n",
        "* The formats of the data includes csv, txt and json. Further data transformations will be updated sometime.\n",
        "\n",
        "\n",
        "* France data description field : *\n",
        "* features * : \n",
        "\n",
        "Basic climatological data - daily\n",
        "Description\n",
        "Presentation\n",
        "Climatological data from all French and overseas stations since their opening, for all available parameters. These data have been climatologically checked.\n",
        "\n",
        "Technical information\n",
        "Daily data are available for download, by department and by period batch, in compressed csv format.\n",
        "All parameters are provided for all weather stations.\n",
        "Times are expressed in UTC for mainland France and in FU for overseas territories\n",
        "Files are updated annually for historical data prior to 1950, monthly for data from 1950 to year -2, and daily for the last two years.\n",
        "\n",
        "| Field        | Description                                                                                                     |\n",
        "|--------------|-----------------------------------------------------------------------------------------------------------------|\n",
        "| `NUM_POSTE`  | Météo-France station number on 8 digits                                                                          |\n",
        "| `NOM_USUEL`  | Common name of the station                                                                                       |\n",
        "| `LAT`        | Latitude, negative in the south (in degrees and millionths of a degree)                                          |\n",
        "| `LON`        | Longitude, negative west of GREENWICH (in degrees and millionths of a degree)                                    |\n",
        "| `ALTI`       | Altitude of the shelter base or rain gauge if no shelter (in meters)                                             |\n",
        "| `AAAAMMJJ`   | Measurement date (year month day)                                                                                |\n",
        "| `RR`         | Amount of precipitation fallen in 24 hours (from 06h UTC on day J to 06h UTC on day J+1). Value for day J is recorded at J+1 (in mm and tenths) |\n",
        "| `TN`         | Minimum temperature under shelter (in °C and tenths)                                                             |\n",
        "| `HTN`        | Time of TN (hhmm)                                                                                                |\n",
        "| `TX`         | Maximum temperature under shelter (in °C and tenths)                                                             |\n",
        "| `HTX`        | Time of TX (hhmm)                                                                                                |\n",
        "| `TM`         | Daily average of hourly temperatures under shelter (in °C and tenths)                                            |\n",
        "| `TNTXM`      | Daily average (TN+TX)/2 (in °C and tenths)                                                                       |\n",
        "| `TAMPLI`     | Daily thermal amplitude: difference between daily TX and TN (TX-TN) (in °C and tenths)                           |\n",
        "| `TNSOL`      | Daily minimum temperature 10 cm above ground (in °C and tenths)                                                  |\n",
        "| `TN50`       | Daily minimum temperature 50 cm above ground (in °C and tenths)                                                  |\n",
        "| `DG`         | Duration of frost under shelter (T ≤ 0°C) (in minutes)                                                           |\n",
        "| `FFM`        | Daily average wind force averaged over 10 minutes, at 10 m (in m/s and tenths)                                   |\n",
        "| `FF2M`       | Daily average wind force averaged over 10 minutes, at 2 m (in m/s and tenths)                                    |\n",
        "| `FXY`        | Daily maximum of maximum hourly wind force averaged over 10 minutes, at 10 m (in m/s and tenths)                 |\n",
        "| `DXY`        | Direction of FXY (in compass points of 360)                                                                      |\n",
        "| `HXY`        | Time of FXY (hhmm)                                                                                               |\n",
        "| `FXI`        | Daily maximum of maximum hourly instantaneous wind force, at 10 m (in m/s and tenths)                            |\n",
        "| `DXI`        | Direction of FXI (in compass points of 360)                                                                      |\n",
        "| `HXI`        | Time of FXI (hhmm)                                                                                               |\n",
        "| `FXI2`       | Daily maximum of maximum hourly instantaneous wind force, at 2 m (in m/s and tenths)                             |\n",
        "| `DXI2`       | Direction of FXI2 (in compass points of 360)                                                                     |\n",
        "| `HXI2`       | Time of FXI2 (hhmm)                                                                                              |\n",
        "| `FXI3S`      | Daily maximum of maximum hourly wind force averaged over 3 seconds, at 10 m (in m/s and tenths)                  |\n",
        "| `DXI3S`      | Direction of FXI3S (in compass points of 360)                                                                    |\n",
        "| `HXI3S`      | Time of FXI3S (hhmm)                                                                                             |\n",
        "\n",
        "Quality codes associated with each data point (e.g., T;QT):\n",
        "- `9`: Filtered data (the data has passed first-level filters/controls)\n",
        "- `0`: Protected data (the data has been definitively validated by the climatologist)\n",
        "- `1`: Validated data (the data has been validated by automatic control or by the climatologist)\n",
        "- `2`: Doubtful data under review (the data has been questioned by automatic control)\n"
      ]
    },
    {
      "cell_type": "code",
      "execution_count": 1,
      "metadata": {
        "id": "QTOUpQ_OBOYi"
      },
      "outputs": [
        {
          "ename": "ModuleNotFoundError",
          "evalue": "No module named 'pandas'",
          "output_type": "error",
          "traceback": [
            "\u001b[1;31m---------------------------------------------------------------------------\u001b[0m",
            "\u001b[1;31mModuleNotFoundError\u001b[0m                       Traceback (most recent call last)",
            "Cell \u001b[1;32mIn[1], line 2\u001b[0m\n\u001b[0;32m      1\u001b[0m \u001b[38;5;66;03m# Import libraries\u001b[39;00m\n\u001b[1;32m----> 2\u001b[0m \u001b[38;5;28;01mimport\u001b[39;00m \u001b[38;5;21;01mpandas\u001b[39;00m \u001b[38;5;28;01mas\u001b[39;00m \u001b[38;5;21;01mpd\u001b[39;00m\n\u001b[0;32m      3\u001b[0m \u001b[38;5;28;01mimport\u001b[39;00m \u001b[38;5;21;01mnumpy\u001b[39;00m \u001b[38;5;28;01mas\u001b[39;00m \u001b[38;5;21;01mnp\u001b[39;00m\n\u001b[0;32m      4\u001b[0m \u001b[38;5;28;01mfrom\u001b[39;00m \u001b[38;5;21;01mmatplotlib\u001b[39;00m \u001b[38;5;28;01mimport\u001b[39;00m pyplot \u001b[38;5;28;01mas\u001b[39;00m plt\n",
            "\u001b[1;31mModuleNotFoundError\u001b[0m: No module named 'pandas'"
          ]
        }
      ],
      "source": [
        "# Import libraries\n",
        "import pandas as pd\n",
        "import numpy as np\n",
        "from matplotlib import pyplot as plt"
      ]
    },
    {
      "cell_type": "code",
      "execution_count": null,
      "metadata": {
        "id": "RBPWcDAP5glP"
      },
      "outputs": [],
      "source": [
        "# Save URL into\n",
        "NOAA_URL = \"https://www.ncei.noaa.gov/access/monitoring/climate-at-a-glance/global/time-series/globe/land_ocean/1/12/1850-2023/data.json\"\n",
        "BERKLEY_URL = \"https://berkeley-earth-temperature.s3.us-west-1.amazonaws.com/Global/Raw_TMAX_complete.txt\"\n",
        "HAD_CRUT5_URL = \"https://www.metoffice.gov.uk/hadobs/hadcrut5/data/HadCRUT.5.0.2.0/analysis/diagnostics/HadCRUT.5.0.2.0.analysis.summary_series.global.monthly.csv\"\n",
        "\n",
        "# Daily RR (rain) -T( temperature)-Vent(wind) data for department 08, over the period 1871-1949\n",
        "ardennes_RR_T_wind_1871_1949_url = \"https://object.files.data.gouv.fr/meteofrance/data/synchro_ftp/BASE/QUOT/Q_08_1871-1949_RR-T-Vent.csv.gz\"\n",
        "# Daily RR (rain) -T( temperature)-Vent(wind) data for department 08, over the period 1950 - 2022\n",
        "ardennes_RR_T_wind_1950_2022_url = \"https://object.files.data.gouv.fr/meteofrance/data/synchro_ftp/BASE/QUOT/Q_08_latest-2023-2024_autres-parametres.csv.gz\"\n",
        "# Daily RR (rain) -T( temperature)-Vent(wind) data for department 08, over the period # Daily RR (rain) -T( temperature)-Vent(wind) data for department 08, over the period 1950 - 2023 - 2024\n",
        "ardennes_RR_T_wind_2023_2024_url = \"https://object.files.data.gouv.fr/meteofrance/data/synchro_ftp/BASE/QUOT/Q_08_latest-2023-2024_RR-T-Vent.csv.gz\"\n",
        "\n",
        "# field description : https://object.files.data.gouv.fr/meteofrance/data/synchro_ftp/BASE/QUOT/Q_descriptif_champs_RR-T-Vent.csv"
      ]
    },
    {
      "cell_type": "code",
      "execution_count": null,
      "metadata": {
        "colab": {
          "base_uri": "https://localhost:8080/",
          "height": 206
        },
        "id": "F1JQFQ0VyUbv",
        "outputId": "2c63eda8-157f-4d6d-fd16-e7044f5053f3"
      },
      "outputs": [
        {
          "data": {
            "text/html": [
              "<div>\n",
              "<style scoped>\n",
              "    .dataframe tbody tr th:only-of-type {\n",
              "        vertical-align: middle;\n",
              "    }\n",
              "\n",
              "    .dataframe tbody tr th {\n",
              "        vertical-align: top;\n",
              "    }\n",
              "\n",
              "    .dataframe thead th {\n",
              "        text-align: right;\n",
              "    }\n",
              "</style>\n",
              "<table border=\"1\" class=\"dataframe\">\n",
              "  <thead>\n",
              "    <tr style=\"text-align: right;\">\n",
              "      <th></th>\n",
              "      <th>NOAAGlobalTemp (1850 - 2023)</th>\n",
              "    </tr>\n",
              "  </thead>\n",
              "  <tbody>\n",
              "    <tr>\n",
              "      <th>1850</th>\n",
              "      <td>-0.06</td>\n",
              "    </tr>\n",
              "    <tr>\n",
              "      <th>1851</th>\n",
              "      <td>-0.08</td>\n",
              "    </tr>\n",
              "    <tr>\n",
              "      <th>1852</th>\n",
              "      <td>-0.01</td>\n",
              "    </tr>\n",
              "    <tr>\n",
              "      <th>1853</th>\n",
              "      <td>-0.12</td>\n",
              "    </tr>\n",
              "    <tr>\n",
              "      <th>1854</th>\n",
              "      <td>0.02</td>\n",
              "    </tr>\n",
              "  </tbody>\n",
              "</table>\n",
              "</div>"
            ],
            "text/plain": [
              "      NOAAGlobalTemp (1850 - 2023)\n",
              "1850                         -0.06\n",
              "1851                         -0.08\n",
              "1852                         -0.01\n",
              "1853                         -0.12\n",
              "1854                          0.02"
            ]
          },
          "execution_count": 4,
          "metadata": {},
          "output_type": "execute_result"
        }
      ],
      "source": [
        "# Read Json file\n",
        "df_noaa = pd.read_json(NOAA_URL)\n",
        "\n",
        "# Dataframe drop unnecessary columns ...\n",
        "df_noaa = (\n",
        "    df_noaa\n",
        "    .drop('description', axis=1)\n",
        "    .loc[pd.to_numeric(df_noaa.index, errors='coerce').notna()]\n",
        ")\n",
        "# Set index as int\n",
        "df_noaa.index = df_noaa.index.astype(int)\n",
        "# Rename columns with specific format\n",
        "df_noaa = df_noaa.rename(columns=lambda x: f\"NOAAGlobalTemp ({df_noaa.index.min()} - {df_noaa.index.max()})\")\n",
        "df_noaa.head()"
      ]
    },
    {
      "cell_type": "code",
      "execution_count": null,
      "metadata": {
        "colab": {
          "base_uri": "https://localhost:8080/",
          "height": 237
        },
        "id": "5Iub8AvLVRua",
        "outputId": "62f311c6-190f-419a-db83-8227ccd705c7"
      },
      "outputs": [
        {
          "data": {
            "text/html": [
              "<div>\n",
              "<style scoped>\n",
              "    .dataframe tbody tr th:only-of-type {\n",
              "        vertical-align: middle;\n",
              "    }\n",
              "\n",
              "    .dataframe tbody tr th {\n",
              "        vertical-align: top;\n",
              "    }\n",
              "\n",
              "    .dataframe thead th {\n",
              "        text-align: right;\n",
              "    }\n",
              "</style>\n",
              "<table border=\"1\" class=\"dataframe\">\n",
              "  <thead>\n",
              "    <tr style=\"text-align: right;\">\n",
              "      <th></th>\n",
              "      <th>Anomaly (deg C)</th>\n",
              "    </tr>\n",
              "    <tr>\n",
              "      <th>Time</th>\n",
              "      <th></th>\n",
              "    </tr>\n",
              "  </thead>\n",
              "  <tbody>\n",
              "    <tr>\n",
              "      <th>1850</th>\n",
              "      <td>-0.417711</td>\n",
              "    </tr>\n",
              "    <tr>\n",
              "      <th>1851</th>\n",
              "      <td>-0.233350</td>\n",
              "    </tr>\n",
              "    <tr>\n",
              "      <th>1852</th>\n",
              "      <td>-0.229399</td>\n",
              "    </tr>\n",
              "    <tr>\n",
              "      <th>1853</th>\n",
              "      <td>-0.270354</td>\n",
              "    </tr>\n",
              "    <tr>\n",
              "      <th>1854</th>\n",
              "      <td>-0.291521</td>\n",
              "    </tr>\n",
              "  </tbody>\n",
              "</table>\n",
              "</div>"
            ],
            "text/plain": [
              "      Anomaly (deg C)\n",
              "Time                 \n",
              "1850        -0.417711\n",
              "1851        -0.233350\n",
              "1852        -0.229399\n",
              "1853        -0.270354\n",
              "1854        -0.291521"
            ]
          },
          "execution_count": 5,
          "metadata": {},
          "output_type": "execute_result"
        }
      ],
      "source": [
        "# read second dataset\n",
        "had_crut5_df = pd.read_csv(HAD_CRUT5_URL, parse_dates=['Time'])\n",
        "# Group by year and calculate average per year.\n",
        "had_crut5_df = (\n",
        "    had_crut5_df\n",
        "    .groupby(had_crut5_df['Time'].dt.year)['Anomaly (deg C)'].mean().reset_index()\n",
        "    .set_index('Time')\n",
        ")\n",
        "# Set index as int\n",
        "had_crut5_df.index = had_crut5_df.index.astype(int)\n",
        "had_crut5_df.head()"
      ]
    },
    {
      "cell_type": "code",
      "execution_count": null,
      "metadata": {
        "colab": {
          "base_uri": "https://localhost:8080/",
          "height": 455
        },
        "id": "oI2_TfSA_M2f",
        "outputId": "a8a01dc8-d884-4197-8195-bd27a2ac68d2"
      },
      "outputs": [
        {
          "data": {
            "text/html": [
              "<div>\n",
              "<style scoped>\n",
              "    .dataframe tbody tr th:only-of-type {\n",
              "        vertical-align: middle;\n",
              "    }\n",
              "\n",
              "    .dataframe tbody tr th {\n",
              "        vertical-align: top;\n",
              "    }\n",
              "\n",
              "    .dataframe thead th {\n",
              "        text-align: right;\n",
              "    }\n",
              "</style>\n",
              "<table border=\"1\" class=\"dataframe\">\n",
              "  <thead>\n",
              "    <tr style=\"text-align: right;\">\n",
              "      <th></th>\n",
              "      <th>anomaly</th>\n",
              "    </tr>\n",
              "    <tr>\n",
              "      <th>year</th>\n",
              "      <th></th>\n",
              "    </tr>\n",
              "  </thead>\n",
              "  <tbody>\n",
              "    <tr>\n",
              "      <th>1850</th>\n",
              "      <td>-1.141667</td>\n",
              "    </tr>\n",
              "    <tr>\n",
              "      <th>1851</th>\n",
              "      <td>-0.971583</td>\n",
              "    </tr>\n",
              "    <tr>\n",
              "      <th>1852</th>\n",
              "      <td>-1.007917</td>\n",
              "    </tr>\n",
              "    <tr>\n",
              "      <th>1853</th>\n",
              "      <td>-0.382333</td>\n",
              "    </tr>\n",
              "    <tr>\n",
              "      <th>1854</th>\n",
              "      <td>-0.170500</td>\n",
              "    </tr>\n",
              "    <tr>\n",
              "      <th>...</th>\n",
              "      <td>...</td>\n",
              "    </tr>\n",
              "    <tr>\n",
              "      <th>2019</th>\n",
              "      <td>1.199167</td>\n",
              "    </tr>\n",
              "    <tr>\n",
              "      <th>2020</th>\n",
              "      <td>1.391000</td>\n",
              "    </tr>\n",
              "    <tr>\n",
              "      <th>2021</th>\n",
              "      <td>1.160500</td>\n",
              "    </tr>\n",
              "    <tr>\n",
              "      <th>2022</th>\n",
              "      <td>1.205750</td>\n",
              "    </tr>\n",
              "    <tr>\n",
              "      <th>2023</th>\n",
              "      <td>1.610091</td>\n",
              "    </tr>\n",
              "  </tbody>\n",
              "</table>\n",
              "<p>174 rows × 1 columns</p>\n",
              "</div>"
            ],
            "text/plain": [
              "       anomaly\n",
              "year          \n",
              "1850 -1.141667\n",
              "1851 -0.971583\n",
              "1852 -1.007917\n",
              "1853 -0.382333\n",
              "1854 -0.170500\n",
              "...        ...\n",
              "2019  1.199167\n",
              "2020  1.391000\n",
              "2021  1.160500\n",
              "2022  1.205750\n",
              "2023  1.610091\n",
              "\n",
              "[174 rows x 1 columns]"
            ]
          },
          "execution_count": 6,
          "metadata": {},
          "output_type": "execute_result"
        }
      ],
      "source": [
        "# Read third dataset\n",
        "berkley_df = pd.read_csv(BERKLEY_URL, comment=\"%\", delim_whitespace=True, names= [\"year\", \"month\", \"anomaly\", \"yearAvgAnomaly\", \"5yearAvgAnomaly\", \"10yearAvgAnomaly\", \"20yearAvgAnomaly\"])\n",
        "# Group by year and calculate average per year.\n",
        "berkley_df = (\n",
        "    berkley_df\n",
        "    .groupby(berkley_df['year'])['anomaly'].mean().reset_index()\n",
        "    .set_index('year')\n",
        ")\n",
        "# berkley_df = berkley_df.assign(realTemp = berkley_df['anomaly'] + 14.40)\n",
        "berkley_df.index = berkley_df.index.astype(int)\n",
        "berkley_df"
      ]
    },
    {
      "cell_type": "code",
      "execution_count": null,
      "metadata": {
        "id": "e5JMKaGUYA2O"
      },
      "outputs": [],
      "source": [
        "# Join the two datasets based on the common 'index' (year)\n",
        "merged_df = (\n",
        "    df_noaa\n",
        "    .join(had_crut5_df.rename(columns={'Anomaly (deg C)': 'HadCRUT5_Anomaly'}), how='left')\n",
        "    .join(berkley_df.rename(columns={'anomaly':'Berkley_anomaly'}), how='left')\n",
        ")\n",
        "\n",
        "# Rename the new column as per your specified format\n",
        "merged_df = (\n",
        "    merged_df\n",
        "    .rename(columns={'HadCRUT5_Anomaly': f\"HAD_CRUT5 ({had_crut5_df.index.min()} - {had_crut5_df.index.max()})\"})\n",
        "    .rename(columns={'Berkley_anomaly': f\"BerkleyEarth ({berkley_df.index.min()} - {berkley_df.index.max()})\"})\n",
        ")"
      ]
    },
    {
      "cell_type": "code",
      "execution_count": null,
      "metadata": {
        "colab": {
          "base_uri": "https://localhost:8080/",
          "height": 423
        },
        "id": "EMW1DQBKYwIB",
        "outputId": "e7f237ff-067b-4c46-b794-cd8782c04796"
      },
      "outputs": [
        {
          "data": {
            "text/html": [
              "<div>\n",
              "<style scoped>\n",
              "    .dataframe tbody tr th:only-of-type {\n",
              "        vertical-align: middle;\n",
              "    }\n",
              "\n",
              "    .dataframe tbody tr th {\n",
              "        vertical-align: top;\n",
              "    }\n",
              "\n",
              "    .dataframe thead th {\n",
              "        text-align: right;\n",
              "    }\n",
              "</style>\n",
              "<table border=\"1\" class=\"dataframe\">\n",
              "  <thead>\n",
              "    <tr style=\"text-align: right;\">\n",
              "      <th></th>\n",
              "      <th>NOAAGlobalTemp (1850 - 2023)</th>\n",
              "      <th>HAD_CRUT5 (1850 - 2023)</th>\n",
              "      <th>BerkleyEarth (1850 - 2023)</th>\n",
              "    </tr>\n",
              "  </thead>\n",
              "  <tbody>\n",
              "    <tr>\n",
              "      <th>1850</th>\n",
              "      <td>-0.06</td>\n",
              "      <td>-0.417711</td>\n",
              "      <td>-1.141667</td>\n",
              "    </tr>\n",
              "    <tr>\n",
              "      <th>1851</th>\n",
              "      <td>-0.08</td>\n",
              "      <td>-0.233350</td>\n",
              "      <td>-0.971583</td>\n",
              "    </tr>\n",
              "    <tr>\n",
              "      <th>1852</th>\n",
              "      <td>-0.01</td>\n",
              "      <td>-0.229399</td>\n",
              "      <td>-1.007917</td>\n",
              "    </tr>\n",
              "    <tr>\n",
              "      <th>1853</th>\n",
              "      <td>-0.12</td>\n",
              "      <td>-0.270354</td>\n",
              "      <td>-0.382333</td>\n",
              "    </tr>\n",
              "    <tr>\n",
              "      <th>1854</th>\n",
              "      <td>0.02</td>\n",
              "      <td>-0.291521</td>\n",
              "      <td>-0.170500</td>\n",
              "    </tr>\n",
              "    <tr>\n",
              "      <th>...</th>\n",
              "      <td>...</td>\n",
              "      <td>...</td>\n",
              "      <td>...</td>\n",
              "    </tr>\n",
              "    <tr>\n",
              "      <th>2019</th>\n",
              "      <td>1.12</td>\n",
              "      <td>0.891073</td>\n",
              "      <td>1.199167</td>\n",
              "    </tr>\n",
              "    <tr>\n",
              "      <th>2020</th>\n",
              "      <td>0.83</td>\n",
              "      <td>0.922921</td>\n",
              "      <td>1.391000</td>\n",
              "    </tr>\n",
              "    <tr>\n",
              "      <th>2021</th>\n",
              "      <td>0.90</td>\n",
              "      <td>0.761906</td>\n",
              "      <td>1.160500</td>\n",
              "    </tr>\n",
              "    <tr>\n",
              "      <th>2022</th>\n",
              "      <td>0.83</td>\n",
              "      <td>0.801305</td>\n",
              "      <td>1.205750</td>\n",
              "    </tr>\n",
              "    <tr>\n",
              "      <th>2023</th>\n",
              "      <td>1.39</td>\n",
              "      <td>1.100057</td>\n",
              "      <td>1.610091</td>\n",
              "    </tr>\n",
              "  </tbody>\n",
              "</table>\n",
              "<p>174 rows × 3 columns</p>\n",
              "</div>"
            ],
            "text/plain": [
              "      NOAAGlobalTemp (1850 - 2023)  HAD_CRUT5 (1850 - 2023)  \\\n",
              "1850                         -0.06                -0.417711   \n",
              "1851                         -0.08                -0.233350   \n",
              "1852                         -0.01                -0.229399   \n",
              "1853                         -0.12                -0.270354   \n",
              "1854                          0.02                -0.291521   \n",
              "...                            ...                      ...   \n",
              "2019                          1.12                 0.891073   \n",
              "2020                          0.83                 0.922921   \n",
              "2021                          0.90                 0.761906   \n",
              "2022                          0.83                 0.801305   \n",
              "2023                          1.39                 1.100057   \n",
              "\n",
              "      BerkleyEarth (1850 - 2023)  \n",
              "1850                   -1.141667  \n",
              "1851                   -0.971583  \n",
              "1852                   -1.007917  \n",
              "1853                   -0.382333  \n",
              "1854                   -0.170500  \n",
              "...                          ...  \n",
              "2019                    1.199167  \n",
              "2020                    1.391000  \n",
              "2021                    1.160500  \n",
              "2022                    1.205750  \n",
              "2023                    1.610091  \n",
              "\n",
              "[174 rows x 3 columns]"
            ]
          },
          "execution_count": 8,
          "metadata": {},
          "output_type": "execute_result"
        }
      ],
      "source": [
        "merged_df"
      ]
    },
    {
      "cell_type": "code",
      "execution_count": null,
      "metadata": {
        "colab": {
          "base_uri": "https://localhost:8080/",
          "height": 408
        },
        "id": "iEBOFEAZY27w",
        "outputId": "274e7e96-f692-45de-ef60-e401aa5168f0"
      },
      "outputs": [
        {
          "data": {
            "text/plain": [
              "<AxesSubplot: title={'center': 'Global Temperature change'}>"
            ]
          },
          "execution_count": 9,
          "metadata": {},
          "output_type": "execute_result"
        },
        {
          "data": {
            "image/png": "[encoded data removed]",
            "text/plain": [
              "<Figure size 800x400 with 1 Axes>"
            ]
          },
          "metadata": {},
          "output_type": "display_data"
        }
      ],
      "source": [
        "merged_df.plot(kind='line', figsize=(8, 4), title='Global Temperature change')"
      ]
    },
    {
      "cell_type": "code",
      "execution_count": null,
      "metadata": {
        "id": "88wz2cnq72ew"
      },
      "outputs": [],
      "source": [
        "\n",
        "\n"
      ]
    },
    {
      "cell_type": "code",
      "execution_count": null,
      "metadata": {
        "colab": {
          "base_uri": "https://localhost:8080/",
          "height": 455
        },
        "id": "ODsT5_sf92Q2",
        "outputId": "1ddb8239-2d22-4803-9ed7-ccb54e815b0f"
      },
      "outputs": [],
      "source": []
    },
    {
      "cell_type": "code",
      "execution_count": null,
      "metadata": {
        "id": "e2kgqim1-nNF"
      },
      "outputs": [],
      "source": []
    }
  ],
  "metadata": {
    "colab": {
      "provenance": []
    },
    "kernelspec": {
      "display_name": ".venv",
      "language": "python",
      "name": "python3"
    },
    "language_info": {
      "codemirror_mode": {
        "name": "ipython",
        "version": 3
      },
      "file_extension": ".py",
      "mimetype": "text/x-python",
      "name": "python",
      "nbconvert_exporter": "python",
      "pygments_lexer": "ipython3",
      "version": "3.11.2"
    }
  },
  "nbformat": 4,
  "nbformat_minor": 0
}
