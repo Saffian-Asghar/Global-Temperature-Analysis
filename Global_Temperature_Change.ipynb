{
  "cells": [
    {
      "cell_type": "markdown",
      "metadata": {
        "id": "thD5wzD_CnN_"
      },
      "source": [
        "# **Ocean and Land Temperature Anomalies**\n",
        "\n",
        "### Description\n",
        "The project aims to analyze global temperature change over time through data visualization techniques. It involves gathering temperature anomalies data from diverse sources, processing, and cleaning it before employing various visualization methods. The objective is to provide insights into climate change trends and patterns, fostering understanding and urgency for sustainable practices and environmental supervision.\n",
        "\n",
        "---\n",
        "### **Team Members**\n",
        "\n",
        "*   Saffian Asghar\n",
        "*   Alexis Culpin\n",
        "*   Romaric Sallustre\n",
        "*   Emilio Espinosa S.\n",
        "\n",
        "---"
      ]
    },
    {
      "cell_type": "code",
      "execution_count": 87,
      "metadata": {
        "id": "QTOUpQ_OBOYi"
      },
      "outputs": [],
      "source": [
        "import pandas as pd\n",
        "import numpy as np\n",
        "from matplotlib import pyplot as plt\n",
        "import urllib.request\n",
        "from pathlib import Path\n",
        "import matplotlib.animation as animation"
      ]
    },
    {
      "cell_type": "markdown",
      "metadata": {},
      "source": [
        "### Constants and Functions"
      ]
    },
    {
      "cell_type": "code",
      "execution_count": 88,
      "metadata": {
        "id": "RBPWcDAP5glP"
      },
      "outputs": [],
      "source": [
        "# Save URL into\n",
        "NOAA_URL = \"https://www.ncei.noaa.gov/access/monitoring/climate-at-a-glance/global/time-series/globe/land_ocean/1/12/1850-2023/data.json\"\n",
        "BERKLEY_URL = \"https://berkeley-earth-temperature.s3.us-west-1.amazonaws.com/Global/Raw_TMAX_complete.txt\"\n",
        "HAD_CRUT5_URL = \"https://www.metoffice.gov.uk/hadobs/hadcrut5/data/HadCRUT.5.0.2.0/analysis/diagnostics/HadCRUT.5.0.2.0.analysis.summary_series.global.monthly.csv\"\n",
        "\n",
        "# Daily RR (rain) -T( temperature)-Vent(wind) data for department 08, over the period 1871-1949\n",
        "ardennes_RR_T_wind_1871_1949_url = \"https://object.files.data.gouv.fr/meteofrance/data/synchro_ftp/BASE/QUOT/Q_08_1871-1949_RR-T-Vent.csv.gz\"\n",
        "# Daily RR (rain) -T( temperature)-Vent(wind) data for department 08, over the period 1950 - 2022\n",
        "ardennes_RR_T_wind_1950_2022_url = \"https://object.files.data.gouv.fr/meteofrance/data/synchro_ftp/BASE/QUOT/Q_08_latest-2023-2024_autres-parametres.csv.gz\"\n",
        "# Daily RR (rain) -T( temperature)-Vent(wind) data for department 08, over the period # Daily RR (rain) -T( temperature)-Vent(wind) data for department 08, over the period 1950 - 2023 - 2024\n",
        "ardennes_RR_T_wind_2023_2024_url = \"https://object.files.data.gouv.fr/meteofrance/data/synchro_ftp/BASE/QUOT/Q_08_latest-2023-2024_RR-T-Vent.csv.gz\"\n",
        "\n",
        "# field description : https://object.files.data.gouv.fr/meteofrance/data/synchro_ftp/BASE/QUOT/Q_descriptif_champs_RR-T-Vent.csv"
      ]
    },
    {
      "cell_type": "markdown",
      "metadata": {},
      "source": [
        "#### Function to get data if it doesn't exist"
      ]
    },
    {
      "cell_type": "code",
      "execution_count": 89,
      "metadata": {},
      "outputs": [],
      "source": [
        "def save_data(urls, folder):\n",
        "    subfolder = Path(f\"./data/{folder}\")\n",
        "    subfolder.mkdir(parents=True, exist_ok=True)\n",
        "    \n",
        "    for key, url in urls.items():\n",
        "        website_url = url.split(\"/\")[2]\n",
        "        file_extension = url.split(\".\")[-1]\n",
        "        filepath = subfolder / f\"{key}.{file_extension}\"\n",
        "        \n",
        "        if not filepath.exists():\n",
        "            urllib.request.urlretrieve(url, filepath)\n",
        "            print(f\"Data saved for {website_url} at {filepath}\")\n",
        "        else:\n",
        "            print(f\"Data already exists for {website_url} at {filepath}\")"
      ]
    },
    {
      "cell_type": "markdown",
      "metadata": {},
      "source": [
        "### Fetching global temperature data"
      ]
    },
    {
      "cell_type": "code",
      "execution_count": 90,
      "metadata": {},
      "outputs": [
        {
          "name": "stdout",
          "output_type": "stream",
          "text": [
            "Data already exists for www.ncei.noaa.gov at data\\global_temperature\\noaa_df.json\n",
            "Data already exists for berkeley-earth-temperature.s3.us-west-1.amazonaws.com at data\\global_temperature\\berkley_df.txt\n",
            "Data already exists for www.metoffice.gov.uk at data\\global_temperature\\had_crut5_df.csv\n"
          ]
        }
      ],
      "source": [
        "urls = {\"noaa_df\" : NOAA_URL, \"berkley_df\" : BERKLEY_URL, \"had_crut5_df\" : HAD_CRUT5_URL}\n",
        "# saving in a subfolder called global_temperature\n",
        "save_data(urls, \"global_temperature\")"
      ]
    },
    {
      "cell_type": "code",
      "execution_count": 91,
      "metadata": {},
      "outputs": [],
      "source": [
        "subfolder = \"./data/global_temperature/\""
      ]
    },
    {
      "cell_type": "markdown",
      "metadata": {},
      "source": [
        "## Data Cleaning & Transformation"
      ]
    },
    {
      "cell_type": "markdown",
      "metadata": {},
      "source": [
        "\n",
        "#### **NOAA dataset**\n",
        "\n",
        "The dataset is hosted by NOAA's National Centers for Environmental Information (NCEI). It contains temperature anomaly data, representing deviations from a reference temperature over time. \n",
        "\n",
        "**Technical information**\n",
        "\n",
        "* Data is collected from 1850 - 2023.\n",
        "* The data is in JSON format.\n",
        "* Columns of interest: year and data (yearly anomaly).\n",
        "\n",
        "| Field        | Description                                                                                                     |\n",
        "|--------------|-----------------------------------------------------------------------------------------------------------------|\n",
        "| `DATE`  | Period of time in years.                                                                          |\n",
        "| `DESCRIPTION`  | Description of data set itself.                                                                                       |\n",
        "| `DATA`        | Anomaly in degrees Celsius.                                       |\n",
        "\n",
        "**Data transformation required**\n",
        "1. Read JSON.\n",
        "2. Drop the description column.\n",
        "3. Ensure every value within the date and data columns is numeric. The non-numeric values have to be drop.\n",
        "4. Make sure the index (date) is an integer type value.\n",
        "5. Rename data column to NOAAGlobalTemp and add the minimum and maximum years.\n",
        "\n",
        "**Link**\n",
        "\n",
        "* https://www.ncei.noaa.gov/access/monitoring/climate-at-a-glance/global/time-series/globe/land_ocean/1/12/1850-2023/data.json\n",
        "\n",
        "**License**\n",
        "\n",
        "Creative Commons Attribution 4.0 International license (CC-BY-4.0)\n"
      ]
    },
    {
      "cell_type": "code",
      "execution_count": 92,
      "metadata": {
        "colab": {
          "base_uri": "https://localhost:8080/",
          "height": 206
        },
        "id": "F1JQFQ0VyUbv",
        "outputId": "2c63eda8-157f-4d6d-fd16-e7044f5053f3"
      },
      "outputs": [
        {
          "data": {
            "text/html": [
              "<div>\n",
              "<style scoped>\n",
              "    .dataframe tbody tr th:only-of-type {\n",
              "        vertical-align: middle;\n",
              "    }\n",
              "\n",
              "    .dataframe tbody tr th {\n",
              "        vertical-align: top;\n",
              "    }\n",
              "\n",
              "    .dataframe thead th {\n",
              "        text-align: right;\n",
              "    }\n",
              "</style>\n",
              "<table border=\"1\" class=\"dataframe\">\n",
              "  <thead>\n",
              "    <tr style=\"text-align: right;\">\n",
              "      <th></th>\n",
              "      <th>NOAAGlobalTemp (1850 - 2023)</th>\n",
              "    </tr>\n",
              "  </thead>\n",
              "  <tbody>\n",
              "    <tr>\n",
              "      <th>1850</th>\n",
              "      <td>-0.06</td>\n",
              "    </tr>\n",
              "    <tr>\n",
              "      <th>1851</th>\n",
              "      <td>-0.08</td>\n",
              "    </tr>\n",
              "    <tr>\n",
              "      <th>1852</th>\n",
              "      <td>-0.01</td>\n",
              "    </tr>\n",
              "    <tr>\n",
              "      <th>1853</th>\n",
              "      <td>-0.12</td>\n",
              "    </tr>\n",
              "    <tr>\n",
              "      <th>1854</th>\n",
              "      <td>0.02</td>\n",
              "    </tr>\n",
              "  </tbody>\n",
              "</table>\n",
              "</div>"
            ],
            "text/plain": [
              "      NOAAGlobalTemp (1850 - 2023)\n",
              "1850                         -0.06\n",
              "1851                         -0.08\n",
              "1852                         -0.01\n",
              "1853                         -0.12\n",
              "1854                          0.02"
            ]
          },
          "execution_count": 92,
          "metadata": {},
          "output_type": "execute_result"
        }
      ],
      "source": [
        "# Read Json file\n",
        "df_noaa = pd.read_json(\"./data/global_temperature/noaa_df.json\")\n",
        "\n",
        "# Dataframe drop unnecessary columns ...\n",
        "df_noaa = (\n",
        "    df_noaa\n",
        "    .drop('description', axis=1)\n",
        "    .loc[pd.to_numeric(df_noaa.index, errors='coerce').notna()]\n",
        ")\n",
        "# Set index as int\n",
        "df_noaa.index = df_noaa.index.astype(int)\n",
        "# Rename columns with specific format\n",
        "df_noaa = df_noaa.rename(columns=lambda x: f\"NOAAGlobalTemp ({df_noaa.index.min()} - {df_noaa.index.max()})\")\n",
        "df_noaa.head()"
      ]
    },
    {
      "cell_type": "markdown",
      "metadata": {},
      "source": [
        "#### **CRUT5 dataset**\n",
        "\n",
        "The dataset is derived from the Hadley Centre for Climate Science and Services at the UK Met Office, suggesting tabular data, possibly containing global monthly climate information. The dataset includes time series summaries for global climate analysis, incorporating columns with both upper and lower confidence limits.\n",
        "\n",
        "**Technical information**\n",
        "\n",
        "* Data collected from 1850 - 2023.\n",
        "* The data is in CSV format.\n",
        "* Columns of interest: year and anomaly in degrees celsius (temperature anomaly).\n",
        "\n",
        "| Field        | Description                                                                                                     |\n",
        "|--------------|-----------------------------------------------------------------------------------------------------------------|\n",
        "| `YEAR_MONTH`  | Period of time in \"YYYY-MM\" format.                                                                      |\n",
        "| `ANOMALY IN DEGREES CELSIUS`  | Monthly anomaly in degrees celsius.                                                                                   |\n",
        "| `LOWER CONFIDENCE LIMIT (2.5%)`        | Numbers at the lower end of the confidence interval.                |\n",
        "| `UPPER CONFIDENCE LIMIT (97.5%)`        | Numbers at the upper end of the confidence interval.                     |\n",
        "\n",
        "**Data transformation required**\n",
        " 1. Read a CSV file into a pandas DataFrame, parsing the 'Time' column as dates.\n",
        " 2. Group the DataFrame by the year part of the 'Time' column.\n",
        " 3. Calculate the mean of the 'Anomaly (deg C)' column for each year.\n",
        " 4. Reset the DataFrame index.\n",
        " 5. Set the 'Time' column as the new index.\n",
        " 6. Convert the index values to integers.\n",
        " \n",
        "\n",
        "**Link**\n",
        "\n",
        "* https://www.metoffice.gov.uk/hadobs/hadcrut5/data/HadCRUT.5.0.2.0/analysis/diagnostics/HadCRUT.5.0.2.0.analysis.summary_series.global.monthly.csv\n",
        "\n",
        "**License**\n",
        "\n",
        "Open Government License (OGL) for Public Sector Information."
      ]
    },
    {
      "cell_type": "code",
      "execution_count": 93,
      "metadata": {
        "colab": {
          "base_uri": "https://localhost:8080/",
          "height": 237
        },
        "id": "5Iub8AvLVRua",
        "outputId": "62f311c6-190f-419a-db83-8227ccd705c7"
      },
      "outputs": [
        {
          "data": {
            "text/html": [
              "<div>\n",
              "<style scoped>\n",
              "    .dataframe tbody tr th:only-of-type {\n",
              "        vertical-align: middle;\n",
              "    }\n",
              "\n",
              "    .dataframe tbody tr th {\n",
              "        vertical-align: top;\n",
              "    }\n",
              "\n",
              "    .dataframe thead th {\n",
              "        text-align: right;\n",
              "    }\n",
              "</style>\n",
              "<table border=\"1\" class=\"dataframe\">\n",
              "  <thead>\n",
              "    <tr style=\"text-align: right;\">\n",
              "      <th></th>\n",
              "      <th>Anomaly (deg C)</th>\n",
              "    </tr>\n",
              "    <tr>\n",
              "      <th>Time</th>\n",
              "      <th></th>\n",
              "    </tr>\n",
              "  </thead>\n",
              "  <tbody>\n",
              "    <tr>\n",
              "      <th>1850</th>\n",
              "      <td>-0.417711</td>\n",
              "    </tr>\n",
              "    <tr>\n",
              "      <th>1851</th>\n",
              "      <td>-0.233350</td>\n",
              "    </tr>\n",
              "    <tr>\n",
              "      <th>1852</th>\n",
              "      <td>-0.229399</td>\n",
              "    </tr>\n",
              "    <tr>\n",
              "      <th>1853</th>\n",
              "      <td>-0.270354</td>\n",
              "    </tr>\n",
              "    <tr>\n",
              "      <th>1854</th>\n",
              "      <td>-0.291521</td>\n",
              "    </tr>\n",
              "  </tbody>\n",
              "</table>\n",
              "</div>"
            ],
            "text/plain": [
              "      Anomaly (deg C)\n",
              "Time                 \n",
              "1850        -0.417711\n",
              "1851        -0.233350\n",
              "1852        -0.229399\n",
              "1853        -0.270354\n",
              "1854        -0.291521"
            ]
          },
          "execution_count": 93,
          "metadata": {},
          "output_type": "execute_result"
        }
      ],
      "source": [
        "# read second dataset\n",
        "had_crut5_df = pd.read_csv('./data/global_temperature/had_crut5_df.csv', parse_dates=['Time'])\n",
        "# Group by year and calculate average per year.\n",
        "had_crut5_df = (\n",
        "    had_crut5_df\n",
        "    .groupby(had_crut5_df['Time'].dt.year)['Anomaly (deg C)'].mean().reset_index()\n",
        "    .set_index('Time')\n",
        ")\n",
        "# Set index as int\n",
        "had_crut5_df.index = had_crut5_df.index.astype(int)\n",
        "had_crut5_df.head()"
      ]
    },
    {
      "cell_type": "markdown",
      "metadata": {},
      "source": [
        "#### **Berkley dataset**\n",
        "\n",
        "The dataset is associated with the Berkeley Earth project, an independent climate science organization, the dataset focuses on the \"Annual Anomaly\" column. Housed on Amazon S3, the data contains raw maximum temperature (TMAX) data, reflecting the highest recorded temperatures.\n",
        "\n",
        "**Technical information**\n",
        "\n",
        "* Data collected from 1850 - 2023.\n",
        "* The dataset has missing values in 2023.\n",
        "* The data is in TXT format.\n",
        "* Columns of interest: year and annual anomaly (difference of temperature from a base reference).\n",
        "\n",
        "| Field        | Description                                                                                                     |\n",
        "|--------------|-----------------------------------------------------------------------------------------------------------------|\n",
        "| `YEAR`  | Period of time in years.                                                 |\n",
        "| `MONTH`  | Period of time in months.                                                                          |\n",
        "| `MONTHLY ANOMALY`        | Monthly anomaly in degrees celsius.                                     |\n",
        "| `ANNUAL ANOMALY`        | Yearly anomaly in degrees celsius.               |\n",
        "| `FIVE YEAR ANOMALY`        | 5 year rolling average anomaly in degrees celsius.               |\n",
        "| `TEN YEAR ANOMALY`        | 10 year rolling average anomaly in degrees celsius.               |\n",
        "| `TWENTY YEAR ANOMALY`        | 20 year rolling average anomaly in degrees celsius.           |\n",
        "\n",
        "**Data transformation required**\n",
        " 1. Read a space-delimited text file into a pandas DataFrame, ignoring lines that start with \"%\".\n",
        " 2. Group the DataFrame by the 'year' column.\n",
        " 3. Calculate the mean of the 'anomaly' column for each year.\n",
        " 4. Reset the DataFrame index.\n",
        " 5. Set the 'year' column as the new index.\n",
        " 6. Convert the index values to integers.\n",
        " \n",
        "**Link**\n",
        "\n",
        "* https://berkeley-earth-temperature.s3.us-west-1.amazonaws.com/Global/Raw_TMAX_complete.txt\n",
        "\n",
        "**License**\n",
        "\n",
        "Creative Commons Attribution 4.0 International license (CC-BY-4.0)\n"
      ]
    },
    {
      "cell_type": "code",
      "execution_count": 94,
      "metadata": {
        "colab": {
          "base_uri": "https://localhost:8080/",
          "height": 455
        },
        "id": "oI2_TfSA_M2f",
        "outputId": "a8a01dc8-d884-4197-8195-bd27a2ac68d2"
      },
      "outputs": [
        {
          "name": "stderr",
          "output_type": "stream",
          "text": [
            "C:\\Users\\baigs\\AppData\\Local\\Temp\\ipykernel_13340\\1851333198.py:2: FutureWarning: The 'delim_whitespace' keyword in pd.read_csv is deprecated and will be removed in a future version. Use ``sep='\\s+'`` instead\n",
            "  berkley_df = pd.read_csv('./data/global_temperature/berkley_df.txt', comment=\"%\", delim_whitespace=True, names= [\"year\", \"month\", \"anomaly\", \"yearAvgAnomaly\", \"5yearAvgAnomaly\", \"10yearAvgAnomaly\", \"20yearAvgAnomaly\"])\n"
          ]
        },
        {
          "data": {
            "text/html": [
              "<div>\n",
              "<style scoped>\n",
              "    .dataframe tbody tr th:only-of-type {\n",
              "        vertical-align: middle;\n",
              "    }\n",
              "\n",
              "    .dataframe tbody tr th {\n",
              "        vertical-align: top;\n",
              "    }\n",
              "\n",
              "    .dataframe thead th {\n",
              "        text-align: right;\n",
              "    }\n",
              "</style>\n",
              "<table border=\"1\" class=\"dataframe\">\n",
              "  <thead>\n",
              "    <tr style=\"text-align: right;\">\n",
              "      <th></th>\n",
              "      <th>anomaly</th>\n",
              "    </tr>\n",
              "    <tr>\n",
              "      <th>year</th>\n",
              "      <th></th>\n",
              "    </tr>\n",
              "  </thead>\n",
              "  <tbody>\n",
              "    <tr>\n",
              "      <th>1850</th>\n",
              "      <td>-1.141667</td>\n",
              "    </tr>\n",
              "    <tr>\n",
              "      <th>1851</th>\n",
              "      <td>-0.971583</td>\n",
              "    </tr>\n",
              "    <tr>\n",
              "      <th>1852</th>\n",
              "      <td>-1.007917</td>\n",
              "    </tr>\n",
              "    <tr>\n",
              "      <th>1853</th>\n",
              "      <td>-0.382333</td>\n",
              "    </tr>\n",
              "    <tr>\n",
              "      <th>1854</th>\n",
              "      <td>-0.170500</td>\n",
              "    </tr>\n",
              "    <tr>\n",
              "      <th>...</th>\n",
              "      <td>...</td>\n",
              "    </tr>\n",
              "    <tr>\n",
              "      <th>2019</th>\n",
              "      <td>1.199167</td>\n",
              "    </tr>\n",
              "    <tr>\n",
              "      <th>2020</th>\n",
              "      <td>1.391000</td>\n",
              "    </tr>\n",
              "    <tr>\n",
              "      <th>2021</th>\n",
              "      <td>1.160500</td>\n",
              "    </tr>\n",
              "    <tr>\n",
              "      <th>2022</th>\n",
              "      <td>1.205750</td>\n",
              "    </tr>\n",
              "    <tr>\n",
              "      <th>2023</th>\n",
              "      <td>1.610091</td>\n",
              "    </tr>\n",
              "  </tbody>\n",
              "</table>\n",
              "<p>174 rows × 1 columns</p>\n",
              "</div>"
            ],
            "text/plain": [
              "       anomaly\n",
              "year          \n",
              "1850 -1.141667\n",
              "1851 -0.971583\n",
              "1852 -1.007917\n",
              "1853 -0.382333\n",
              "1854 -0.170500\n",
              "...        ...\n",
              "2019  1.199167\n",
              "2020  1.391000\n",
              "2021  1.160500\n",
              "2022  1.205750\n",
              "2023  1.610091\n",
              "\n",
              "[174 rows x 1 columns]"
            ]
          },
          "execution_count": 94,
          "metadata": {},
          "output_type": "execute_result"
        }
      ],
      "source": [
        "# Read third dataset\n",
        "berkley_df = pd.read_csv('./data/global_temperature/berkley_df.txt', comment=\"%\", delim_whitespace=True, names= [\"year\", \"month\", \"anomaly\", \"yearAvgAnomaly\", \"5yearAvgAnomaly\", \"10yearAvgAnomaly\", \"20yearAvgAnomaly\"])\n",
        "# Group by year and calculate average per year.\n",
        "berkley_df = (\n",
        "    berkley_df\n",
        "    .groupby(berkley_df['year'])['anomaly'].mean().reset_index()\n",
        "    .set_index('year')\n",
        ")\n",
        "# berkley_df = berkley_df.assign(realTemp = berkley_df['anomaly'] + 14.40)\n",
        "berkley_df.index = berkley_df.index.astype(int)\n",
        "berkley_df"
      ]
    },
    {
      "cell_type": "code",
      "execution_count": 95,
      "metadata": {
        "id": "e5JMKaGUYA2O"
      },
      "outputs": [],
      "source": [
        "# Join the two datasets based on the common 'index' (year)\n",
        "merged_df = (\n",
        "    df_noaa\n",
        "    .join(had_crut5_df.rename(columns={'Anomaly (deg C)': 'HadCRUT5_Anomaly'}), how='left')\n",
        "    .join(berkley_df.rename(columns={'anomaly':'Berkley_anomaly'}), how='left')\n",
        ")\n",
        "\n",
        "# Rename the new column as per your specified format\n",
        "merged_df = (\n",
        "    merged_df\n",
        "    .rename(columns={'HadCRUT5_Anomaly': f\"HAD_CRUT5 ({had_crut5_df.index.min()} - {had_crut5_df.index.max()})\"})\n",
        "    .rename(columns={'Berkley_anomaly': f\"BerkleyEarth ({berkley_df.index.min()} - {berkley_df.index.max()})\"})\n",
        ")"
      ]
    },
    {
      "cell_type": "code",
      "execution_count": 96,
      "metadata": {
        "colab": {
          "base_uri": "https://localhost:8080/",
          "height": 423
        },
        "id": "EMW1DQBKYwIB",
        "outputId": "e7f237ff-067b-4c46-b794-cd8782c04796"
      },
      "outputs": [
        {
          "data": {
            "text/html": [
              "<div>\n",
              "<style scoped>\n",
              "    .dataframe tbody tr th:only-of-type {\n",
              "        vertical-align: middle;\n",
              "    }\n",
              "\n",
              "    .dataframe tbody tr th {\n",
              "        vertical-align: top;\n",
              "    }\n",
              "\n",
              "    .dataframe thead th {\n",
              "        text-align: right;\n",
              "    }\n",
              "</style>\n",
              "<table border=\"1\" class=\"dataframe\">\n",
              "  <thead>\n",
              "    <tr style=\"text-align: right;\">\n",
              "      <th></th>\n",
              "      <th>NOAAGlobalTemp (1850 - 2023)</th>\n",
              "      <th>HAD_CRUT5 (1850 - 2023)</th>\n",
              "      <th>BerkleyEarth (1850 - 2023)</th>\n",
              "    </tr>\n",
              "  </thead>\n",
              "  <tbody>\n",
              "    <tr>\n",
              "      <th>1850</th>\n",
              "      <td>-0.06</td>\n",
              "      <td>-0.417711</td>\n",
              "      <td>-1.141667</td>\n",
              "    </tr>\n",
              "    <tr>\n",
              "      <th>1851</th>\n",
              "      <td>-0.08</td>\n",
              "      <td>-0.233350</td>\n",
              "      <td>-0.971583</td>\n",
              "    </tr>\n",
              "    <tr>\n",
              "      <th>1852</th>\n",
              "      <td>-0.01</td>\n",
              "      <td>-0.229399</td>\n",
              "      <td>-1.007917</td>\n",
              "    </tr>\n",
              "    <tr>\n",
              "      <th>1853</th>\n",
              "      <td>-0.12</td>\n",
              "      <td>-0.270354</td>\n",
              "      <td>-0.382333</td>\n",
              "    </tr>\n",
              "    <tr>\n",
              "      <th>1854</th>\n",
              "      <td>0.02</td>\n",
              "      <td>-0.291521</td>\n",
              "      <td>-0.170500</td>\n",
              "    </tr>\n",
              "    <tr>\n",
              "      <th>...</th>\n",
              "      <td>...</td>\n",
              "      <td>...</td>\n",
              "      <td>...</td>\n",
              "    </tr>\n",
              "    <tr>\n",
              "      <th>2019</th>\n",
              "      <td>1.12</td>\n",
              "      <td>0.891073</td>\n",
              "      <td>1.199167</td>\n",
              "    </tr>\n",
              "    <tr>\n",
              "      <th>2020</th>\n",
              "      <td>0.83</td>\n",
              "      <td>0.922921</td>\n",
              "      <td>1.391000</td>\n",
              "    </tr>\n",
              "    <tr>\n",
              "      <th>2021</th>\n",
              "      <td>0.90</td>\n",
              "      <td>0.761906</td>\n",
              "      <td>1.160500</td>\n",
              "    </tr>\n",
              "    <tr>\n",
              "      <th>2022</th>\n",
              "      <td>0.83</td>\n",
              "      <td>0.801305</td>\n",
              "      <td>1.205750</td>\n",
              "    </tr>\n",
              "    <tr>\n",
              "      <th>2023</th>\n",
              "      <td>1.39</td>\n",
              "      <td>1.100057</td>\n",
              "      <td>1.610091</td>\n",
              "    </tr>\n",
              "  </tbody>\n",
              "</table>\n",
              "<p>174 rows × 3 columns</p>\n",
              "</div>"
            ],
            "text/plain": [
              "      NOAAGlobalTemp (1850 - 2023)  HAD_CRUT5 (1850 - 2023)  \\\n",
              "1850                         -0.06                -0.417711   \n",
              "1851                         -0.08                -0.233350   \n",
              "1852                         -0.01                -0.229399   \n",
              "1853                         -0.12                -0.270354   \n",
              "1854                          0.02                -0.291521   \n",
              "...                            ...                      ...   \n",
              "2019                          1.12                 0.891073   \n",
              "2020                          0.83                 0.922921   \n",
              "2021                          0.90                 0.761906   \n",
              "2022                          0.83                 0.801305   \n",
              "2023                          1.39                 1.100057   \n",
              "\n",
              "      BerkleyEarth (1850 - 2023)  \n",
              "1850                   -1.141667  \n",
              "1851                   -0.971583  \n",
              "1852                   -1.007917  \n",
              "1853                   -0.382333  \n",
              "1854                   -0.170500  \n",
              "...                          ...  \n",
              "2019                    1.199167  \n",
              "2020                    1.391000  \n",
              "2021                    1.160500  \n",
              "2022                    1.205750  \n",
              "2023                    1.610091  \n",
              "\n",
              "[174 rows x 3 columns]"
            ]
          },
          "execution_count": 96,
          "metadata": {},
          "output_type": "execute_result"
        }
      ],
      "source": [
        "merged_df"
      ]
    },
    {
      "cell_type": "code",
      "execution_count": 97,
      "metadata": {
        "colab": {
          "base_uri": "https://localhost:8080/",
          "height": 408
        },
        "id": "iEBOFEAZY27w",
        "outputId": "274e7e96-f692-45de-ef60-e401aa5168f0"
      },
      "outputs": [
        {
          "data": {
            "text/plain": [
              "<Axes: title={'center': 'Global Temperature change'}>"
            ]
          },
          "execution_count": 97,
          "metadata": {},
          "output_type": "execute_result"
        },
        {
          "data": {
            "image/png": "[encoded data removed]",
            "text/plain": [
              "<Figure size 800x400 with 1 Axes>"
            ]
          },
          "metadata": {},
          "output_type": "display_data"
        }
      ],
      "source": [
        "\n",
        "fig, ax = plt.subplots(figsize=(8, 4))\n",
        "\n",
        "def animate(i):\n",
        "    ax.clear()\n",
        "    merged_df.iloc[:i].plot(kind='line', ax=ax, legend=False)\n",
        "    ax.set_title('Global Temperature change')\n",
        "    ax.set_xlabel('Year')\n",
        "    ax.set_ylabel('Temperature Anomaly (°C)')\n",
        "\n",
        "ani = animation.FuncAnimation(fig, animate, frames=len(merged_df), interval=5000)\n",
        "plt.close(fig)\n",
        "ani.save('global_temperature_change.gif', writer='pillow', fps=30)\n",
        "merged_df.plot(kind='line', figsize=(8, 4), title='Global Temperature change')"
      ]
    },
    {
      "cell_type": "markdown",
      "metadata": {},
      "source": [
        "#### **Météo France dataset**\n",
        "Meteo Ardennes provides localized weather data for the Ardennes region, encompassing essential parameters like temperature, precipitation, and wind speed. Sourced from regional weather stations and collaborative efforts with meteorological agencies, the data offers valuable insights for informed decision-making. Available in CSV.GZ format, these compressed files store tabular weather information efficiently. The dataset contains climatological data from all French and overseas stations since their opening, for all available parameters. \n",
        "\n",
        "**Technical information**\n",
        "\n",
        "* Daily data are available for download, by department and by period batch, in compressed csv format.\n",
        "* All parameters are provided for all weather stations.\n",
        "* Times are expressed in UTC for mainland France and in FU for overseas territories\n",
        "* Files are updated annually for historical data prior to 1950, monthly for data from 1950 to year -2, and daily for the last two years.\n",
        "\n",
        "| Field        | Description                                                                                                     |\n",
        "|--------------|-----------------------------------------------------------------------------------------------------------------|\n",
        "| `NUM_POSTE`  | Météo-France station number on 8 digits                                                                          |\n",
        "| `NOM_USUEL`  | Common name of the station                                                                                       |\n",
        "| `LAT`        | Latitude, negative in the south (in degrees and millionths of a degree)                                          |\n",
        "| `LON`        | Longitude, negative west of GREENWICH (in degrees and millionths of a degree)                                    |\n",
        "| `ALTI`       | Altitude of the shelter base or rain gauge if no shelter (in meters)                                             |\n",
        "| `AAAAMMJJ`   | Measurement date (year month day)                                                                                |\n",
        "| `RR`         | Amount of precipitation fallen in 24 hours (from 06h UTC on day J to 06h UTC on day J+1). Value for day J is recorded at J+1 (in mm and tenths) |\n",
        "| `TN`         | Minimum temperature under shelter (in °C and tenths)                                                             |\n",
        "| `HTN`        | Time of TN (hhmm)                                                                                                |\n",
        "| `TX`         | Maximum temperature under shelter (in °C and tenths)                                                             |\n",
        "| `HTX`        | Time of TX (hhmm)                                                                                                |\n",
        "| `TM`         | Daily average of hourly temperatures under shelter (in °C and tenths)                                            |\n",
        "| `TNTXM`      | Daily average (TN+TX)/2 (in °C and tenths)                                                                       |\n",
        "| `TAMPLI`     | Daily thermal amplitude: difference between daily TX and TN (TX-TN) (in °C and tenths)                           |\n",
        "| `TNSOL`      | Daily minimum temperature 10 cm above ground (in °C and tenths)                                                  |\n",
        "| `TN50`       | Daily minimum temperature 50 cm above ground (in °C and tenths)                                                  |\n",
        "| `DG`         | Duration of frost under shelter (T ≤ 0°C) (in minutes)                                                           |\n",
        "| `FFM`        | Daily average wind force averaged over 10 minutes, at 10 m (in m/s and tenths)                                   |\n",
        "| `FF2M`       | Daily average wind force averaged over 10 minutes, at 2 m (in m/s and tenths)                                    |\n",
        "| `FXY`        | Daily maximum of maximum hourly wind force averaged over 10 minutes, at 10 m (in m/s and tenths)                 |\n",
        "| `DXY`        | Direction of FXY (in compass points of 360)                                                                      |\n",
        "| `HXY`        | Time of FXY (hhmm)                                                                                               |\n",
        "| `FXI`        | Daily maximum of maximum hourly instantaneous wind force, at 10 m (in m/s and tenths)                            |\n",
        "| `DXI`        | Direction of FXI (in compass points of 360)                                                                      |\n",
        "| `HXI`        | Time of FXI (hhmm)                                                                                               |\n",
        "| `FXI2`       | Daily maximum of maximum hourly instantaneous wind force, at 2 m (in m/s and tenths)                             |\n",
        "| `DXI2`       | Direction of FXI2 (in compass points of 360)                                                                     |\n",
        "| `HXI2`       | Time of FXI2 (hhmm)                                                                                              |\n",
        "| `FXI3S`      | Daily maximum of maximum hourly wind force averaged over 3 seconds, at 10 m (in m/s and tenths)                  |\n",
        "| `DXI3S`      | Direction of FXI3S (in compass points of 360)                                                                    |\n",
        "| `HXI3S`      | Time of FXI3S (hhmm)                                                                                             |\n",
        "\n",
        "Quality codes associated with each data point (e.g., T;QT):\n",
        "- `9`: Filtered data (the data has passed first-level filters/controls)\n",
        "- `0`: Protected data (the data has been definitively validated by the climatologist)\n",
        "- `1`: Validated data (the data has been validated by automatic control or by the climatologist)\n",
        "- `2`: Doubtful data under review (the data has been questioned by automatic control)\n",
        "\n",
        "**Link**\n",
        "\n",
        "* https://object.files.data.gouv.fr/meteofrance/data/synchro_ftp/BASE/QUOT/Q_08_1871-1949_RR-T-Vent.csv.gz\n",
        "* https://object.files.data.gouv.fr/meteofrance/data/synchro_ftp/BASE/QUOT/Q_08_latest-2023-2024_autres-parametres.csv.gz\n",
        "* https://object.files.data.gouv.fr/meteofrance/data/synchro_ftp/BASE/QUOT/Q_08_latest-2023-2024_RR-T-Vent.csv.gz\n",
        "\n",
        "**License** \n",
        "\n",
        "Etalab Open Licence 2.0."
      ]
    },
    {
      "cell_type": "code",
      "execution_count": 98,
      "metadata": {
        "id": "88wz2cnq72ew"
      },
      "outputs": [
        {
          "data": {
            "text/html": [
              "<div>\n",
              "<style scoped>\n",
              "    .dataframe tbody tr th:only-of-type {\n",
              "        vertical-align: middle;\n",
              "    }\n",
              "\n",
              "    .dataframe tbody tr th {\n",
              "        vertical-align: top;\n",
              "    }\n",
              "\n",
              "    .dataframe thead th {\n",
              "        text-align: right;\n",
              "    }\n",
              "</style>\n",
              "<table border=\"1\" class=\"dataframe\">\n",
              "  <thead>\n",
              "    <tr style=\"text-align: right;\">\n",
              "      <th></th>\n",
              "      <th>NUM_POSTE</th>\n",
              "      <th>NOM_USUEL</th>\n",
              "      <th>LAT</th>\n",
              "      <th>LON</th>\n",
              "      <th>ALTI</th>\n",
              "      <th>AAAAMMJJ</th>\n",
              "      <th>RR</th>\n",
              "      <th>QRR</th>\n",
              "      <th>TN</th>\n",
              "      <th>QTN</th>\n",
              "      <th>...</th>\n",
              "      <th>DXI2</th>\n",
              "      <th>QDXI2</th>\n",
              "      <th>HXI2</th>\n",
              "      <th>QHXI2</th>\n",
              "      <th>FXI3S</th>\n",
              "      <th>QFXI3S</th>\n",
              "      <th>DXI3S</th>\n",
              "      <th>QDXI3S</th>\n",
              "      <th>HXI3S</th>\n",
              "      <th>QHXI3S</th>\n",
              "    </tr>\n",
              "  </thead>\n",
              "  <tbody>\n",
              "    <tr>\n",
              "      <th>0</th>\n",
              "      <td>8016001</td>\n",
              "      <td>AOUSTE</td>\n",
              "      <td>49.8</td>\n",
              "      <td>4.316667</td>\n",
              "      <td>204</td>\n",
              "      <td>18800601</td>\n",
              "      <td>0.0</td>\n",
              "      <td>1.0</td>\n",
              "      <td>NaN</td>\n",
              "      <td>NaN</td>\n",
              "      <td>...</td>\n",
              "      <td>NaN</td>\n",
              "      <td>NaN</td>\n",
              "      <td>NaN</td>\n",
              "      <td>NaN</td>\n",
              "      <td>NaN</td>\n",
              "      <td>NaN</td>\n",
              "      <td>NaN</td>\n",
              "      <td>NaN</td>\n",
              "      <td>NaN</td>\n",
              "      <td>NaN</td>\n",
              "    </tr>\n",
              "    <tr>\n",
              "      <th>1</th>\n",
              "      <td>8016001</td>\n",
              "      <td>AOUSTE</td>\n",
              "      <td>49.8</td>\n",
              "      <td>4.316667</td>\n",
              "      <td>204</td>\n",
              "      <td>18800602</td>\n",
              "      <td>0.0</td>\n",
              "      <td>1.0</td>\n",
              "      <td>NaN</td>\n",
              "      <td>NaN</td>\n",
              "      <td>...</td>\n",
              "      <td>NaN</td>\n",
              "      <td>NaN</td>\n",
              "      <td>NaN</td>\n",
              "      <td>NaN</td>\n",
              "      <td>NaN</td>\n",
              "      <td>NaN</td>\n",
              "      <td>NaN</td>\n",
              "      <td>NaN</td>\n",
              "      <td>NaN</td>\n",
              "      <td>NaN</td>\n",
              "    </tr>\n",
              "    <tr>\n",
              "      <th>2</th>\n",
              "      <td>8016001</td>\n",
              "      <td>AOUSTE</td>\n",
              "      <td>49.8</td>\n",
              "      <td>4.316667</td>\n",
              "      <td>204</td>\n",
              "      <td>18800603</td>\n",
              "      <td>0.0</td>\n",
              "      <td>1.0</td>\n",
              "      <td>NaN</td>\n",
              "      <td>NaN</td>\n",
              "      <td>...</td>\n",
              "      <td>NaN</td>\n",
              "      <td>NaN</td>\n",
              "      <td>NaN</td>\n",
              "      <td>NaN</td>\n",
              "      <td>NaN</td>\n",
              "      <td>NaN</td>\n",
              "      <td>NaN</td>\n",
              "      <td>NaN</td>\n",
              "      <td>NaN</td>\n",
              "      <td>NaN</td>\n",
              "    </tr>\n",
              "    <tr>\n",
              "      <th>3</th>\n",
              "      <td>8016001</td>\n",
              "      <td>AOUSTE</td>\n",
              "      <td>49.8</td>\n",
              "      <td>4.316667</td>\n",
              "      <td>204</td>\n",
              "      <td>18800604</td>\n",
              "      <td>0.0</td>\n",
              "      <td>1.0</td>\n",
              "      <td>NaN</td>\n",
              "      <td>NaN</td>\n",
              "      <td>...</td>\n",
              "      <td>NaN</td>\n",
              "      <td>NaN</td>\n",
              "      <td>NaN</td>\n",
              "      <td>NaN</td>\n",
              "      <td>NaN</td>\n",
              "      <td>NaN</td>\n",
              "      <td>NaN</td>\n",
              "      <td>NaN</td>\n",
              "      <td>NaN</td>\n",
              "      <td>NaN</td>\n",
              "    </tr>\n",
              "    <tr>\n",
              "      <th>4</th>\n",
              "      <td>8016001</td>\n",
              "      <td>AOUSTE</td>\n",
              "      <td>49.8</td>\n",
              "      <td>4.316667</td>\n",
              "      <td>204</td>\n",
              "      <td>18800605</td>\n",
              "      <td>0.0</td>\n",
              "      <td>1.0</td>\n",
              "      <td>NaN</td>\n",
              "      <td>NaN</td>\n",
              "      <td>...</td>\n",
              "      <td>NaN</td>\n",
              "      <td>NaN</td>\n",
              "      <td>NaN</td>\n",
              "      <td>NaN</td>\n",
              "      <td>NaN</td>\n",
              "      <td>NaN</td>\n",
              "      <td>NaN</td>\n",
              "      <td>NaN</td>\n",
              "      <td>NaN</td>\n",
              "      <td>NaN</td>\n",
              "    </tr>\n",
              "  </tbody>\n",
              "</table>\n",
              "<p>5 rows × 56 columns</p>\n",
              "</div>"
            ],
            "text/plain": [
              "   NUM_POSTE NOM_USUEL   LAT       LON  ALTI  AAAAMMJJ   RR  QRR  TN  QTN  \\\n",
              "0    8016001    AOUSTE  49.8  4.316667   204  18800601  0.0  1.0 NaN  NaN   \n",
              "1    8016001    AOUSTE  49.8  4.316667   204  18800602  0.0  1.0 NaN  NaN   \n",
              "2    8016001    AOUSTE  49.8  4.316667   204  18800603  0.0  1.0 NaN  NaN   \n",
              "3    8016001    AOUSTE  49.8  4.316667   204  18800604  0.0  1.0 NaN  NaN   \n",
              "4    8016001    AOUSTE  49.8  4.316667   204  18800605  0.0  1.0 NaN  NaN   \n",
              "\n",
              "   ...  DXI2  QDXI2  HXI2  QHXI2  FXI3S  QFXI3S  DXI3S  QDXI3S  HXI3S  QHXI3S  \n",
              "0  ...   NaN    NaN   NaN    NaN    NaN     NaN    NaN     NaN    NaN     NaN  \n",
              "1  ...   NaN    NaN   NaN    NaN    NaN     NaN    NaN     NaN    NaN     NaN  \n",
              "2  ...   NaN    NaN   NaN    NaN    NaN     NaN    NaN     NaN    NaN     NaN  \n",
              "3  ...   NaN    NaN   NaN    NaN    NaN     NaN    NaN     NaN    NaN     NaN  \n",
              "4  ...   NaN    NaN   NaN    NaN    NaN     NaN    NaN     NaN    NaN     NaN  \n",
              "\n",
              "[5 rows x 56 columns]"
            ]
          },
          "execution_count": 98,
          "metadata": {},
          "output_type": "execute_result"
        }
      ],
      "source": [
        "# Read the CSV file into a pandas DataFrame\n",
        "df = pd.read_csv(ardennes_RR_T_wind_1871_1949_url, compression='gzip', sep=';')\n",
        "\n",
        "# Display the DataFrame\n",
        "df.head()\n",
        "\n",
        "\n"
      ]
    },
    {
      "cell_type": "code",
      "execution_count": 99,
      "metadata": {},
      "outputs": [
        {
          "data": {
            "image/png": "[encoded data removed]",
            "text/plain": [
              "<Figure size 800x400 with 1 Axes>"
            ]
          },
          "metadata": {},
          "output_type": "display_data"
        }
      ],
      "source": [
        "\n",
        "# Assuming the DataFrame has an index with years and a column named \"NOAAGlobalTemp (1850 - 2023)\"\n",
        "# Extract the decade from the year\n",
        "merged_df['Decade'] = merged_df.index // 10 * 10\n",
        "\n",
        "# Calculate the decadal averages\n",
        "decadal_averages = merged_df.groupby('Decade')['NOAAGlobalTemp (1850 - 2023)'].mean()\n",
        "\n",
        "# Plot decadal temperature anomalies\n",
        "fig, ax = plt.subplots(figsize=(8, 4))\n",
        "decadal_averages.plot(kind='bar', ax=ax)\n",
        "ax.set_title('Decadal Global Temperature Change')\n",
        "ax.set_xlabel('Decade')\n",
        "ax.set_ylabel('Average Temperature Anomaly (°C)')\n",
        "plt.xticks(rotation=45)\n",
        "plt.tight_layout()\n",
        "plt.show()"
      ]
    },
    {
      "cell_type": "code",
      "execution_count": 146,
      "metadata": {},
      "outputs": [
        {
          "name": "stderr",
          "output_type": "stream",
          "text": [
            "C:\\Users\\baigs\\AppData\\Local\\Temp\\ipykernel_13340\\1167955524.py:9: MatplotlibDeprecationWarning: The get_cmap function was deprecated in Matplotlib 3.7 and will be removed two minor releases later. Use ``matplotlib.colormaps[name]`` or ``matplotlib.colormaps.get_cmap(obj)`` instead.\n",
            "  color_map = plt.cm.get_cmap('seismic')\n"
          ]
        },
        {
          "data": {
            "image/png": "[encoded data removed]",
            "text/plain": [
              "<Figure size 1000x600 with 1 Axes>"
            ]
          },
          "metadata": {},
          "output_type": "display_data"
        }
      ],
      "source": [
        "# Assuming the DataFrame has an index with years and a column named \"NOAAGlobalTemp (1850 - 2023)\"\n",
        "# Extract the decade from the year\n",
        "merged_df['Decade'] = merged_df.index // 10 * 10\n",
        "\n",
        "# Calculate the decadal averages\n",
        "decadal_averages = merged_df.groupby('Decade')['NOAAGlobalTemp (1850 - 2023)'].mean()\n",
        "\n",
        "# Define the color map for the gradient\n",
        "color_map = plt.cm.get_cmap('seismic')\n",
        "\n",
        "# Plot decadal temperature anomalies with enhanced aesthetics\n",
        "plt.figure(figsize=(10, 6), facecolor='black')\n",
        "bars = plt.bar(decadal_averages.index, decadal_averages, edgecolor='gray', width=6)\n",
        "# Set the color of each bar based on the y value\n",
        "for bar, value in zip(bars, decadal_averages):\n",
        "    color = color_map((value + 1) / 2)  # Normalize the value to range from 0 to 1\n",
        "    bar.set_color(color)\n",
        "\n",
        "plt.title('Decadal Global Temperature Change', fontsize=16, color='white')\n",
        "plt.xlabel('Decade', fontsize=14, color='white')\n",
        "plt.ylabel('Average Temperature Anomaly (°C)', fontsize=14, color='white')\n",
        "plt.xticks(rotation=45, fontsize=12, color='white')\n",
        "plt.yticks(fontsize=12, color='white')\n",
        "plt.grid(axis='y', linestyle='--', alpha=0.7)\n",
        "\n",
        "plt.gca().set_facecolor('#000000')\n",
        "\n",
        "plt.tight_layout()\n",
        "plt.show()"
      ]
    },
    {
      "cell_type": "code",
      "execution_count": 102,
      "metadata": {},
      "outputs": [],
      "source": [
        "df_12KTemp = pd.read_pickle(\"./data/Temp12k1_1_0.pkl\")"
      ]
    },
    {
      "cell_type": "code",
      "execution_count": 103,
      "metadata": {},
      "outputs": [
        {
          "data": {
            "text/plain": [
              "dict"
            ]
          },
          "execution_count": 103,
          "metadata": {},
          "output_type": "execute_result"
        }
      ],
      "source": [
        "type(df_12KTemp)"
      ]
    },
    {
      "cell_type": "code",
      "execution_count": 104,
      "metadata": {},
      "outputs": [
        {
          "ename": "AttributeError",
          "evalue": "'dict' object has no attribute 'head'",
          "output_type": "error",
          "traceback": [
            "\u001b[1;31m---------------------------------------------------------------------------\u001b[0m",
            "\u001b[1;31mAttributeError\u001b[0m                            Traceback (most recent call last)",
            "Cell \u001b[1;32mIn[104], line 1\u001b[0m\n\u001b[1;32m----> 1\u001b[0m \u001b[43mdf_12KTemp\u001b[49m\u001b[38;5;241;43m.\u001b[39;49m\u001b[43mhead\u001b[49m()\n",
            "\u001b[1;31mAttributeError\u001b[0m: 'dict' object has no attribute 'head'"
          ]
        }
      ],
      "source": [
        "df_12KTemp.head()"
      ]
    },
    {
      "cell_type": "code",
      "execution_count": null,
      "metadata": {},
      "outputs": [
        {
          "name": "stdout",
          "output_type": "stream",
          "text": [
            "<class 'dict'>\n"
          ]
        }
      ],
      "source": [
        "import pickle\n",
        "\n",
        "# Load the pickle file\n",
        "with open('./data/Temp12k1_1_0.pkl', 'rb') as f:\n",
        "    data = pickle.load(f)\n",
        "\n",
        "# Inspect the loaded object\n",
        "print(type(data))"
      ]
    },
    {
      "cell_type": "code",
      "execution_count": null,
      "metadata": {},
      "outputs": [
        {
          "name": "stdout",
          "output_type": "stream",
          "text": [
            "D <class 'dict'>\n",
            "TS <class 'list'>\n"
          ]
        }
      ],
      "source": [
        "sample_keys = list(data.keys())[:5]  # Adjust the number of keys you want to sample as needed\n",
        "\n",
        "# Print out the sampled keys and their corresponding values\n",
        "for key in sample_keys:\n",
        "    print(key, type(data[key]))\n",
        "\n"
      ]
    },
    {
      "cell_type": "code",
      "execution_count": null,
      "metadata": {},
      "outputs": [
        {
          "name": "stdout",
          "output_type": "stream",
          "text": [
            "First few elements in 'TS' list:\n",
            "{'mode': 'paleoData', 'time_id': 53.569659, 'archiveType': 'MarineSediment', 'createdBy': 'PalMod2LiPD', 'dataSetName': '117_723A.Godad.2011', 'lipdverseLink': 'http://lipdverse.org/Temp12k/1_0_2/117_723A.Godad.2011.html', 'maxYear': 22260, 'minYear': 500, 'nUniqueAges': 11, 'nUniqueOtherAges': 0, 'otherAgesPerKyr': '0', 'hasDepth': 1, 'nUniqueGoodAges': 11, 'agesPerKyr': 0.9565, 'lipdComplete': '100%', 'datasetId': 'tmeZsxjY5oSP1dOcgrJW', 'originalDataUrl': '10.1594/PANGAEA.775098,10.1594/PANGAEA.695217', 'changelog': [{'version': '1.0.5', 'lastVersion': '1.0.4', 'curator': 'nicholas', 'timestamp': '2022-05-18 00:24:16 UTC', 'changes': {'Paleo Column metadata': [[\"temperature (RL0SCEeYVWU): paleoData_mostRecentCompilations: '' has been replaced by 'Temp12k-1_0_2, HoloceneAbruptChange-0_10_0'\"], [\"temperature (RVwo44cKoew): paleoData_mostRecentCompilations: '' has been replaced by 'HoloceneAbruptChange-0_10_0'\"]], 'Paleo Interpretation metadata': [[\"planktic.d18O (Rwjoz3Y1iEf): interpretation1_scope: 'climate' has been replaced by ''\"]]}}, {'version': '1.0.4', 'lastVersion': '1.0.3', 'curator': 'nick', 'timestamp': '2021-03-17 01:51:28 UTC', 'changes': {'Paleo Interpretation metadata': [[\"planktic.d18O (Rwjoz3Y1iEf): interpretation1_scope: '' has been replaced by 'climate'\"]]}}, {'version': '1.0.3', 'lastVersion': '1.0.2', 'curator': 'nick', 'timestamp': '2021-01-18 21:36:43 UTC', 'changes': {'Paleo Interpretation metadata': [[\"planktic.d18O (Rwjoz3Y1iEf): interpretation1_scope: 'climate' has been replaced by ''\"]]}}, {'version': '1.0.2', 'lastVersion': '1.0.1', 'curator': 'nick', 'timestamp': '2021-01-15 18:46:25 UTC', 'changes': {'Paleo Interpretation metadata': [[\"planktic.d18O (Rwjoz3Y1iEf): interpretation1_scope: '' has been replaced by 'climate'\"]]}}, {'version': '1.0.1', 'lastVersion': '1.0.0', 'curator': 'nick', 'timestamp': '2020-10-08 12:40:16 UTC', 'changes': {'Paleo Column metadata': [[\"temperature (RVwo44cKoew): paleoData_proxyGeneral: '' has been replaced by 'other microfossil'\"]]}}, {'version': '1.0.0', 'curator': 'nick', 'timestamp': '2020-08-21 15:34:35 UTC', 'notes': 'This marks the creation of the changelog, and marks the status of this dataset as of Temp12k version 1.0.1', 'changes': {'Setup': [['Changelog created']]}}], 'pub1_author': 'Godad, Shital P.; Naidu, Pothuri Divakar; Malmgren, Bjorn A.', 'pub1_doi': '10.1016/j.marmicro.2010.09.006', 'pub1_issue': '2-Jan', 'pub1_journal': 'Marine Micropaleontology', 'pub1_page': '25-29', 'pub1_pubDataUrl': 'doi.org', 'pub1_publisher': 'Elsevier BV', 'pub1_title': 'Sea surface temperature changes during May and August in the western Arabian Sea over the last 22 kyr: Implications as to shifting of the upwelling season', 'pub1_type': 'article-journal', 'pub1_volume': '78', 'pub1_year': 2011, 'pub1_citeKey': 'T3EIXLSV', 'pub1_pages': '25   29', 'pub2_author': 'Naidu, Pothuri Divakar;Niitsuma, Nobuaki', 'pub2_doi': '10.1016/S0031-0182(03)00629-1', 'pub2_issue': '1-2', 'pub2_journal': 'Palaeogeography, Palaeoclimatology, Palaeoecology', 'pub2_page': '85-95', 'pub2_pubDataUrl': 'doi.org', 'pub2_publisher': 'Elsevier BV', 'pub2_title': 'Carbon and oxygen isotope time series records of planktonic and benthic foraminifera from the Arabian Sea: implications on upwelling processes', 'pub2_type': 'article-journal', 'pub2_volume': '202', 'pub2_year': 2011, 'pub3_author': 'Naidu, Pothuri Divakar;Malmgren, Björn A.', 'pub3_doi': '10.1029/95GL02558', 'pub3_issue': '17', 'pub3_journal': 'Geophysical Research Letters', 'pub3_page': '2361-2364', 'pub3_pubDataUrl': 'doi.org', 'pub3_publisher': 'American Geophysical Union (AGU)', 'pub3_title': 'A 2,200 years periodicity in the Asian Monsoon System', 'pub3_type': 'article-journal', 'pub3_volume': '22', 'pub3_year': 2011, 'pub4_author': 'Gupta, Anil K.;Anderson, David M.;Overpeck, Jonathan T.', 'pub4_doi': '10.1038/nature01340', 'pub4_issue': '6921', 'pub4_journal': 'Nature', 'pub4_page': '354-357', 'pub4_pubDataUrl': 'doi.org', 'pub4_publisher': 'Springer Nature', 'pub4_title': 'Abrupt changes in the Asian southwest monsoon during the Holocene and their links to the North Atlantic Ocean', 'pub4_type': 'article-journal', 'pub4_volume': '421', 'pub4_year': 2011, 'geo_meanLon': 57.609, 'geo_meanLat': 18.0518, 'geo_meanElev': -806.0, 'geo_notes': 'more data exist for 723, but these cannot be merged because not sufficient information available on composite depths', 'geo_siteName': '117_723A', 'geo_countryOcean': 'Indian Ocean>Arabian Sea', 'geo_gcmdLocation': 'Indian Ocean>Arabian Sea', '@context': 'context.jsonld', 'lipdVersion': 1.3, 'tableType': 'meas', 'paleoData_tableName': 'paleo0measurement0', 'paleoData_missingValue': 'nan', 'paleoData_filename': '117_723A.Godad.2011.paleo0measurement0.csv', 'depth': [0.03, 0.22, 0.4, 0.59, 0.84, 0.99, 1.19, 1.39, 1.6, 1.8, 2.0, 2.2, 2.4, 2.6, 2.79, 2.9, 3.1, 3.22, 3.3, 3.39, 3.49, 3.59, 3.7, 3.75, 3.9, 4.1, 4.3, 4.5, 4.72, 4.89, 5.09, 5.33, 5.49, 5.7, 5.9, 6.1, 6.3, 6.49, 6.7, 6.9, 7.08, 7.19, 7.4], 'depthUnits': 'm', 'age': [950.0, 1540.0, 2110.0, 2700.0, 3490.0, 3960.0, 4580.0, 5210.0, 5870.0, 6360.0, 6860.0, 7360.0, 7860.0, 8350.0, 8830.0, 9100.0, 9690.0, 10050.0, 10290.0, 10550.0, 10850.0, 11150.0, 11470.0, 11620.0, 12070.0, 12660.0, 13250.0, 13840.0, 14500.0, 15000.0, 15590.0, 16110.0, 16340.0, 16650.0, 16940.0, 17230.0, 17530.0, 17800.0, 18110.0, 18400.0, 18660.0, 18820.0, 19130.0], 'ageUnits': 'BP', 'paleoData_TSid': 'RGrFMzE0MFm', 'paleoData_hasMaxValue': 7.4, 'paleoData_hasMeanValue': 3.7106976744186047, 'paleoData_hasMedianValue': 3.59, 'paleoData_hasMinValue': 0.03, 'paleoData_units': 'm', 'paleoData_variableName': 'depth', 'paleoData_temperature12kUncertainty': 'NA', 'paleoData_hasMean': 3.7107, 'paleoData_hasMedian': 3.59, 'paleoData_hasMax': 7.4, 'paleoData_hasMin': 0.03, 'paleoData_hasResolution_hasMinValue': 150.0, 'paleoData_hasResolution_hasMaxValue': 790.0, 'paleoData_hasResolution_hasMeanValue': 432.85714285714283, 'paleoData_hasResolution_hasMedianValue': 475.0, 'paleoData_number': 1, 'paleoData_values': [0.03, 0.22, 0.4, 0.59, 0.84, 0.99, 1.19, 1.39, 1.6, 1.8, 2.0, 2.2, 2.4, 2.6, 2.79, 2.9, 3.1, 3.22, 3.3, 3.39, 3.49, 3.59, 3.7, 3.75, 3.9, 4.1, 4.3, 4.5, 4.72, 4.89, 5.09, 5.33, 5.49, 5.7, 5.9, 6.1, 6.3, 6.49, 6.7, 6.9, 7.08, 7.19, 7.4]}\n",
            "{'mode': 'paleoData', 'time_id': 53.569659, 'archiveType': 'MarineSediment', 'createdBy': 'PalMod2LiPD', 'dataSetName': '117_723A.Godad.2011', 'lipdverseLink': 'http://lipdverse.org/Temp12k/1_0_2/117_723A.Godad.2011.html', 'maxYear': 22260, 'minYear': 500, 'nUniqueAges': 11, 'nUniqueOtherAges': 0, 'otherAgesPerKyr': '0', 'hasDepth': 1, 'nUniqueGoodAges': 11, 'agesPerKyr': 0.9565, 'lipdComplete': '100%', 'datasetId': 'tmeZsxjY5oSP1dOcgrJW', 'originalDataUrl': '10.1594/PANGAEA.775098,10.1594/PANGAEA.695217', 'changelog': [{'version': '1.0.5', 'lastVersion': '1.0.4', 'curator': 'nicholas', 'timestamp': '2022-05-18 00:24:16 UTC', 'changes': {'Paleo Column metadata': [[\"temperature (RL0SCEeYVWU): paleoData_mostRecentCompilations: '' has been replaced by 'Temp12k-1_0_2, HoloceneAbruptChange-0_10_0'\"], [\"temperature (RVwo44cKoew): paleoData_mostRecentCompilations: '' has been replaced by 'HoloceneAbruptChange-0_10_0'\"]], 'Paleo Interpretation metadata': [[\"planktic.d18O (Rwjoz3Y1iEf): interpretation1_scope: 'climate' has been replaced by ''\"]]}}, {'version': '1.0.4', 'lastVersion': '1.0.3', 'curator': 'nick', 'timestamp': '2021-03-17 01:51:28 UTC', 'changes': {'Paleo Interpretation metadata': [[\"planktic.d18O (Rwjoz3Y1iEf): interpretation1_scope: '' has been replaced by 'climate'\"]]}}, {'version': '1.0.3', 'lastVersion': '1.0.2', 'curator': 'nick', 'timestamp': '2021-01-18 21:36:43 UTC', 'changes': {'Paleo Interpretation metadata': [[\"planktic.d18O (Rwjoz3Y1iEf): interpretation1_scope: 'climate' has been replaced by ''\"]]}}, {'version': '1.0.2', 'lastVersion': '1.0.1', 'curator': 'nick', 'timestamp': '2021-01-15 18:46:25 UTC', 'changes': {'Paleo Interpretation metadata': [[\"planktic.d18O (Rwjoz3Y1iEf): interpretation1_scope: '' has been replaced by 'climate'\"]]}}, {'version': '1.0.1', 'lastVersion': '1.0.0', 'curator': 'nick', 'timestamp': '2020-10-08 12:40:16 UTC', 'changes': {'Paleo Column metadata': [[\"temperature (RVwo44cKoew): paleoData_proxyGeneral: '' has been replaced by 'other microfossil'\"]]}}, {'version': '1.0.0', 'curator': 'nick', 'timestamp': '2020-08-21 15:34:35 UTC', 'notes': 'This marks the creation of the changelog, and marks the status of this dataset as of Temp12k version 1.0.1', 'changes': {'Setup': [['Changelog created']]}}], 'pub1_author': 'Godad, Shital P.; Naidu, Pothuri Divakar; Malmgren, Bjorn A.', 'pub1_doi': '10.1016/j.marmicro.2010.09.006', 'pub1_issue': '2-Jan', 'pub1_journal': 'Marine Micropaleontology', 'pub1_page': '25-29', 'pub1_pubDataUrl': 'doi.org', 'pub1_publisher': 'Elsevier BV', 'pub1_title': 'Sea surface temperature changes during May and August in the western Arabian Sea over the last 22 kyr: Implications as to shifting of the upwelling season', 'pub1_type': 'article-journal', 'pub1_volume': '78', 'pub1_year': 2011, 'pub1_citeKey': 'T3EIXLSV', 'pub1_pages': '25   29', 'pub2_author': 'Naidu, Pothuri Divakar;Niitsuma, Nobuaki', 'pub2_doi': '10.1016/S0031-0182(03)00629-1', 'pub2_issue': '1-2', 'pub2_journal': 'Palaeogeography, Palaeoclimatology, Palaeoecology', 'pub2_page': '85-95', 'pub2_pubDataUrl': 'doi.org', 'pub2_publisher': 'Elsevier BV', 'pub2_title': 'Carbon and oxygen isotope time series records of planktonic and benthic foraminifera from the Arabian Sea: implications on upwelling processes', 'pub2_type': 'article-journal', 'pub2_volume': '202', 'pub2_year': 2011, 'pub3_author': 'Naidu, Pothuri Divakar;Malmgren, Björn A.', 'pub3_doi': '10.1029/95GL02558', 'pub3_issue': '17', 'pub3_journal': 'Geophysical Research Letters', 'pub3_page': '2361-2364', 'pub3_pubDataUrl': 'doi.org', 'pub3_publisher': 'American Geophysical Union (AGU)', 'pub3_title': 'A 2,200 years periodicity in the Asian Monsoon System', 'pub3_type': 'article-journal', 'pub3_volume': '22', 'pub3_year': 2011, 'pub4_author': 'Gupta, Anil K.;Anderson, David M.;Overpeck, Jonathan T.', 'pub4_doi': '10.1038/nature01340', 'pub4_issue': '6921', 'pub4_journal': 'Nature', 'pub4_page': '354-357', 'pub4_pubDataUrl': 'doi.org', 'pub4_publisher': 'Springer Nature', 'pub4_title': 'Abrupt changes in the Asian southwest monsoon during the Holocene and their links to the North Atlantic Ocean', 'pub4_type': 'article-journal', 'pub4_volume': '421', 'pub4_year': 2011, 'geo_meanLon': 57.609, 'geo_meanLat': 18.0518, 'geo_meanElev': -806.0, 'geo_notes': 'more data exist for 723, but these cannot be merged because not sufficient information available on composite depths', 'geo_siteName': '117_723A', 'geo_countryOcean': 'Indian Ocean>Arabian Sea', 'geo_gcmdLocation': 'Indian Ocean>Arabian Sea', '@context': 'context.jsonld', 'lipdVersion': 1.3, 'tableType': 'meas', 'paleoData_tableName': 'paleo0measurement0', 'paleoData_missingValue': 'nan', 'paleoData_filename': '117_723A.Godad.2011.paleo0measurement0.csv', 'depth': [0.03, 0.22, 0.4, 0.59, 0.84, 0.99, 1.19, 1.39, 1.6, 1.8, 2.0, 2.2, 2.4, 2.6, 2.79, 2.9, 3.1, 3.22, 3.3, 3.39, 3.49, 3.59, 3.7, 3.75, 3.9, 4.1, 4.3, 4.5, 4.72, 4.89, 5.09, 5.33, 5.49, 5.7, 5.9, 6.1, 6.3, 6.49, 6.7, 6.9, 7.08, 7.19, 7.4], 'depthUnits': 'm', 'age': [950.0, 1540.0, 2110.0, 2700.0, 3490.0, 3960.0, 4580.0, 5210.0, 5870.0, 6360.0, 6860.0, 7360.0, 7860.0, 8350.0, 8830.0, 9100.0, 9690.0, 10050.0, 10290.0, 10550.0, 10850.0, 11150.0, 11470.0, 11620.0, 12070.0, 12660.0, 13250.0, 13840.0, 14500.0, 15000.0, 15590.0, 16110.0, 16340.0, 16650.0, 16940.0, 17230.0, 17530.0, 17800.0, 18110.0, 18400.0, 18660.0, 18820.0, 19130.0], 'ageUnits': 'BP', 'paleoData_TSid': 'R4bO24Jas1Z', 'paleoData_description': 'Age_ka_BP', 'paleoData_hasDataLink': 'https://doi.pangaea.de/10.1594/PANGAEA.695217', 'paleoData_hasMaxValue': 19130.0, 'paleoData_hasMeanValue': 11149.53488372093, 'paleoData_hasMedianValue': 11150.0, 'paleoData_hasMinValue': 950.0, 'paleoData_hasPubDOI': '10.1016/S0031-0182(03)00629-1', 'paleoData_units': 'BP', 'paleoData_unitsOriginal': 'yr bp', 'paleoData_variableName': 'age', 'paleoData_temperature12kUncertainty': 'NA', 'paleoData_hasMean': 11149.5349, 'paleoData_hasMedian': 17800, 'paleoData_hasMax': 19130, 'paleoData_hasMin': 950, 'paleoData_hasResolution_hasMinValue': 'nan', 'paleoData_hasResolution_hasMaxValue': 'nan', 'paleoData_hasResolution_hasMeanValue': 'nan', 'paleoData_hasResolution_hasMedianValue': 'nan', 'paleoData_number': 2, 'paleoData_values': [950.0, 1540.0, 2110.0, 2700.0, 3490.0, 3960.0, 4580.0, 5210.0, 5870.0, 6360.0, 6860.0, 7360.0, 7860.0, 8350.0, 8830.0, 9100.0, 9690.0, 10050.0, 10290.0, 10550.0, 10850.0, 11150.0, 11470.0, 11620.0, 12070.0, 12660.0, 13250.0, 13840.0, 14500.0, 15000.0, 15590.0, 16110.0, 16340.0, 16650.0, 16940.0, 17230.0, 17530.0, 17800.0, 18110.0, 18400.0, 18660.0, 18820.0, 19130.0]}\n",
            "{'mode': 'paleoData', 'time_id': 53.569659, 'archiveType': 'MarineSediment', 'createdBy': 'PalMod2LiPD', 'dataSetName': '117_723A.Godad.2011', 'lipdverseLink': 'http://lipdverse.org/Temp12k/1_0_2/117_723A.Godad.2011.html', 'maxYear': 22260, 'minYear': 500, 'nUniqueAges': 11, 'nUniqueOtherAges': 0, 'otherAgesPerKyr': '0', 'hasDepth': 1, 'nUniqueGoodAges': 11, 'agesPerKyr': 0.9565, 'lipdComplete': '100%', 'datasetId': 'tmeZsxjY5oSP1dOcgrJW', 'originalDataUrl': '10.1594/PANGAEA.775098,10.1594/PANGAEA.695217', 'changelog': [{'version': '1.0.5', 'lastVersion': '1.0.4', 'curator': 'nicholas', 'timestamp': '2022-05-18 00:24:16 UTC', 'changes': {'Paleo Column metadata': [[\"temperature (RL0SCEeYVWU): paleoData_mostRecentCompilations: '' has been replaced by 'Temp12k-1_0_2, HoloceneAbruptChange-0_10_0'\"], [\"temperature (RVwo44cKoew): paleoData_mostRecentCompilations: '' has been replaced by 'HoloceneAbruptChange-0_10_0'\"]], 'Paleo Interpretation metadata': [[\"planktic.d18O (Rwjoz3Y1iEf): interpretation1_scope: 'climate' has been replaced by ''\"]]}}, {'version': '1.0.4', 'lastVersion': '1.0.3', 'curator': 'nick', 'timestamp': '2021-03-17 01:51:28 UTC', 'changes': {'Paleo Interpretation metadata': [[\"planktic.d18O (Rwjoz3Y1iEf): interpretation1_scope: '' has been replaced by 'climate'\"]]}}, {'version': '1.0.3', 'lastVersion': '1.0.2', 'curator': 'nick', 'timestamp': '2021-01-18 21:36:43 UTC', 'changes': {'Paleo Interpretation metadata': [[\"planktic.d18O (Rwjoz3Y1iEf): interpretation1_scope: 'climate' has been replaced by ''\"]]}}, {'version': '1.0.2', 'lastVersion': '1.0.1', 'curator': 'nick', 'timestamp': '2021-01-15 18:46:25 UTC', 'changes': {'Paleo Interpretation metadata': [[\"planktic.d18O (Rwjoz3Y1iEf): interpretation1_scope: '' has been replaced by 'climate'\"]]}}, {'version': '1.0.1', 'lastVersion': '1.0.0', 'curator': 'nick', 'timestamp': '2020-10-08 12:40:16 UTC', 'changes': {'Paleo Column metadata': [[\"temperature (RVwo44cKoew): paleoData_proxyGeneral: '' has been replaced by 'other microfossil'\"]]}}, {'version': '1.0.0', 'curator': 'nick', 'timestamp': '2020-08-21 15:34:35 UTC', 'notes': 'This marks the creation of the changelog, and marks the status of this dataset as of Temp12k version 1.0.1', 'changes': {'Setup': [['Changelog created']]}}], 'pub1_author': 'Godad, Shital P.; Naidu, Pothuri Divakar; Malmgren, Bjorn A.', 'pub1_doi': '10.1016/j.marmicro.2010.09.006', 'pub1_issue': '2-Jan', 'pub1_journal': 'Marine Micropaleontology', 'pub1_page': '25-29', 'pub1_pubDataUrl': 'doi.org', 'pub1_publisher': 'Elsevier BV', 'pub1_title': 'Sea surface temperature changes during May and August in the western Arabian Sea over the last 22 kyr: Implications as to shifting of the upwelling season', 'pub1_type': 'article-journal', 'pub1_volume': '78', 'pub1_year': 2011, 'pub1_citeKey': 'T3EIXLSV', 'pub1_pages': '25   29', 'pub2_author': 'Naidu, Pothuri Divakar;Niitsuma, Nobuaki', 'pub2_doi': '10.1016/S0031-0182(03)00629-1', 'pub2_issue': '1-2', 'pub2_journal': 'Palaeogeography, Palaeoclimatology, Palaeoecology', 'pub2_page': '85-95', 'pub2_pubDataUrl': 'doi.org', 'pub2_publisher': 'Elsevier BV', 'pub2_title': 'Carbon and oxygen isotope time series records of planktonic and benthic foraminifera from the Arabian Sea: implications on upwelling processes', 'pub2_type': 'article-journal', 'pub2_volume': '202', 'pub2_year': 2011, 'pub3_author': 'Naidu, Pothuri Divakar;Malmgren, Björn A.', 'pub3_doi': '10.1029/95GL02558', 'pub3_issue': '17', 'pub3_journal': 'Geophysical Research Letters', 'pub3_page': '2361-2364', 'pub3_pubDataUrl': 'doi.org', 'pub3_publisher': 'American Geophysical Union (AGU)', 'pub3_title': 'A 2,200 years periodicity in the Asian Monsoon System', 'pub3_type': 'article-journal', 'pub3_volume': '22', 'pub3_year': 2011, 'pub4_author': 'Gupta, Anil K.;Anderson, David M.;Overpeck, Jonathan T.', 'pub4_doi': '10.1038/nature01340', 'pub4_issue': '6921', 'pub4_journal': 'Nature', 'pub4_page': '354-357', 'pub4_pubDataUrl': 'doi.org', 'pub4_publisher': 'Springer Nature', 'pub4_title': 'Abrupt changes in the Asian southwest monsoon during the Holocene and their links to the North Atlantic Ocean', 'pub4_type': 'article-journal', 'pub4_volume': '421', 'pub4_year': 2011, 'geo_meanLon': 57.609, 'geo_meanLat': 18.0518, 'geo_meanElev': -806.0, 'geo_notes': 'more data exist for 723, but these cannot be merged because not sufficient information available on composite depths', 'geo_siteName': '117_723A', 'geo_countryOcean': 'Indian Ocean>Arabian Sea', 'geo_gcmdLocation': 'Indian Ocean>Arabian Sea', '@context': 'context.jsonld', 'lipdVersion': 1.3, 'tableType': 'meas', 'paleoData_tableName': 'paleo0measurement0', 'paleoData_missingValue': 'nan', 'paleoData_filename': '117_723A.Godad.2011.paleo0measurement0.csv', 'depth': [0.03, 0.22, 0.4, 0.59, 0.84, 0.99, 1.19, 1.39, 1.6, 1.8, 2.0, 2.2, 2.4, 2.6, 2.79, 2.9, 3.1, 3.22, 3.3, 3.39, 3.49, 3.59, 3.7, 3.75, 3.9, 4.1, 4.3, 4.5, 4.72, 4.89, 5.09, 5.33, 5.49, 5.7, 5.9, 6.1, 6.3, 6.49, 6.7, 6.9, 7.08, 7.19, 7.4], 'depthUnits': 'm', 'age': [950.0, 1540.0, 2110.0, 2700.0, 3490.0, 3960.0, 4580.0, 5210.0, 5870.0, 6360.0, 6860.0, 7360.0, 7860.0, 8350.0, 8830.0, 9100.0, 9690.0, 10050.0, 10290.0, 10550.0, 10850.0, 11150.0, 11470.0, 11620.0, 12070.0, 12660.0, 13250.0, 13840.0, 14500.0, 15000.0, 15590.0, 16110.0, 16340.0, 16650.0, 16940.0, 17230.0, 17530.0, 17800.0, 18110.0, 18400.0, 18660.0, 18820.0, 19130.0], 'ageUnits': 'BP', 'paleoData_TSid': 'Rwjoz3Y1iEf', 'paleoData_analyticalError': '0.05', 'paleoData_description': 'G_bulloides_d18O_per_mil_PDB', 'paleoData_hasDataLink': 'https://doi.pangaea.de/10.1594/PANGAEA.695217', 'paleoData_hasMaxValue': -0.2, 'paleoData_hasMeanValue': -1.039767441860465, 'paleoData_hasMedianValue': -1.05, 'paleoData_hasMinValue': 2.29, 'paleoData_hasPubDOI': '10.1016/S0031-0182(03)00629-1', 'paleoData_measurementInstrument': 'MAT 250', 'paleoData_measurementMaterial': 'planktic foraminifera calcite', 'paleoData_measurementN': '10', 'paleoData_measurementSizeFraction': '200-300', 'paleoData_units': 'permil', 'paleoData_unitsOriginal': 'permil PDB', 'paleoData_useInGlobalTemperatureAnalysis': 'FALSE', 'paleoData_variableName': 'planktic.d18O', 'paleoData_variableType': 'measured', 'paleoData_proxyDetail': 'planktic foraminifera calcite', 'paleoData_medianRes12k': 490, 'paleoData_meanValue12k': -1.3554, 'paleoData_temp12kDkIndex': 'NA', 'paleoData_hasMean': -1.0398, 'paleoData_hasMedian': -1.05, 'paleoData_hasMax': -0.2, 'paleoData_hasMin': -2.29, 'paleoData_hasResolution_hasMinValue': 150.0, 'paleoData_hasResolution_hasMaxValue': 790.0, 'paleoData_hasResolution_hasMeanValue': 432.85714285714283, 'paleoData_hasResolution_hasMedianValue': 475.0, 'paleoData_number': 3, 'paleoData_values': [-1.33, -1.21, -1.53, -1.58, -2.27, -2.29, -1.92, -1.86, -1.14, -1.28, -1.12, -1.15, -1.27, -1.44, -1.3, -0.97, -1.05, -1.48, -1.25, -1.48, -0.98, -1.07, -0.8, -0.76, -1.24, -0.77, -1.13, -0.2, -0.89, -0.91, -0.28, -0.62, -0.77, -0.34, -0.67, -0.72, -1.03, -0.87, -0.21, -0.33, -0.44, -0.54, -0.22]}\n",
            "{'mode': 'paleoData', 'time_id': 53.569659, 'archiveType': 'MarineSediment', 'createdBy': 'PalMod2LiPD', 'dataSetName': '117_723A.Godad.2011', 'lipdverseLink': 'http://lipdverse.org/Temp12k/1_0_2/117_723A.Godad.2011.html', 'maxYear': 22260, 'minYear': 500, 'nUniqueAges': 11, 'nUniqueOtherAges': 0, 'otherAgesPerKyr': '0', 'hasDepth': 1, 'nUniqueGoodAges': 11, 'agesPerKyr': 0.9565, 'lipdComplete': '100%', 'datasetId': 'tmeZsxjY5oSP1dOcgrJW', 'originalDataUrl': '10.1594/PANGAEA.775098,10.1594/PANGAEA.695217', 'changelog': [{'version': '1.0.5', 'lastVersion': '1.0.4', 'curator': 'nicholas', 'timestamp': '2022-05-18 00:24:16 UTC', 'changes': {'Paleo Column metadata': [[\"temperature (RL0SCEeYVWU): paleoData_mostRecentCompilations: '' has been replaced by 'Temp12k-1_0_2, HoloceneAbruptChange-0_10_0'\"], [\"temperature (RVwo44cKoew): paleoData_mostRecentCompilations: '' has been replaced by 'HoloceneAbruptChange-0_10_0'\"]], 'Paleo Interpretation metadata': [[\"planktic.d18O (Rwjoz3Y1iEf): interpretation1_scope: 'climate' has been replaced by ''\"]]}}, {'version': '1.0.4', 'lastVersion': '1.0.3', 'curator': 'nick', 'timestamp': '2021-03-17 01:51:28 UTC', 'changes': {'Paleo Interpretation metadata': [[\"planktic.d18O (Rwjoz3Y1iEf): interpretation1_scope: '' has been replaced by 'climate'\"]]}}, {'version': '1.0.3', 'lastVersion': '1.0.2', 'curator': 'nick', 'timestamp': '2021-01-18 21:36:43 UTC', 'changes': {'Paleo Interpretation metadata': [[\"planktic.d18O (Rwjoz3Y1iEf): interpretation1_scope: 'climate' has been replaced by ''\"]]}}, {'version': '1.0.2', 'lastVersion': '1.0.1', 'curator': 'nick', 'timestamp': '2021-01-15 18:46:25 UTC', 'changes': {'Paleo Interpretation metadata': [[\"planktic.d18O (Rwjoz3Y1iEf): interpretation1_scope: '' has been replaced by 'climate'\"]]}}, {'version': '1.0.1', 'lastVersion': '1.0.0', 'curator': 'nick', 'timestamp': '2020-10-08 12:40:16 UTC', 'changes': {'Paleo Column metadata': [[\"temperature (RVwo44cKoew): paleoData_proxyGeneral: '' has been replaced by 'other microfossil'\"]]}}, {'version': '1.0.0', 'curator': 'nick', 'timestamp': '2020-08-21 15:34:35 UTC', 'notes': 'This marks the creation of the changelog, and marks the status of this dataset as of Temp12k version 1.0.1', 'changes': {'Setup': [['Changelog created']]}}], 'pub1_author': 'Godad, Shital P.; Naidu, Pothuri Divakar; Malmgren, Bjorn A.', 'pub1_doi': '10.1016/j.marmicro.2010.09.006', 'pub1_issue': '2-Jan', 'pub1_journal': 'Marine Micropaleontology', 'pub1_page': '25-29', 'pub1_pubDataUrl': 'doi.org', 'pub1_publisher': 'Elsevier BV', 'pub1_title': 'Sea surface temperature changes during May and August in the western Arabian Sea over the last 22 kyr: Implications as to shifting of the upwelling season', 'pub1_type': 'article-journal', 'pub1_volume': '78', 'pub1_year': 2011, 'pub1_citeKey': 'T3EIXLSV', 'pub1_pages': '25   29', 'pub2_author': 'Naidu, Pothuri Divakar;Niitsuma, Nobuaki', 'pub2_doi': '10.1016/S0031-0182(03)00629-1', 'pub2_issue': '1-2', 'pub2_journal': 'Palaeogeography, Palaeoclimatology, Palaeoecology', 'pub2_page': '85-95', 'pub2_pubDataUrl': 'doi.org', 'pub2_publisher': 'Elsevier BV', 'pub2_title': 'Carbon and oxygen isotope time series records of planktonic and benthic foraminifera from the Arabian Sea: implications on upwelling processes', 'pub2_type': 'article-journal', 'pub2_volume': '202', 'pub2_year': 2011, 'pub3_author': 'Naidu, Pothuri Divakar;Malmgren, Björn A.', 'pub3_doi': '10.1029/95GL02558', 'pub3_issue': '17', 'pub3_journal': 'Geophysical Research Letters', 'pub3_page': '2361-2364', 'pub3_pubDataUrl': 'doi.org', 'pub3_publisher': 'American Geophysical Union (AGU)', 'pub3_title': 'A 2,200 years periodicity in the Asian Monsoon System', 'pub3_type': 'article-journal', 'pub3_volume': '22', 'pub3_year': 2011, 'pub4_author': 'Gupta, Anil K.;Anderson, David M.;Overpeck, Jonathan T.', 'pub4_doi': '10.1038/nature01340', 'pub4_issue': '6921', 'pub4_journal': 'Nature', 'pub4_page': '354-357', 'pub4_pubDataUrl': 'doi.org', 'pub4_publisher': 'Springer Nature', 'pub4_title': 'Abrupt changes in the Asian southwest monsoon during the Holocene and their links to the North Atlantic Ocean', 'pub4_type': 'article-journal', 'pub4_volume': '421', 'pub4_year': 2011, 'geo_meanLon': 57.609, 'geo_meanLat': 18.0518, 'geo_meanElev': -806.0, 'geo_notes': 'more data exist for 723, but these cannot be merged because not sufficient information available on composite depths', 'geo_siteName': '117_723A', 'geo_countryOcean': 'Indian Ocean>Arabian Sea', 'geo_gcmdLocation': 'Indian Ocean>Arabian Sea', '@context': 'context.jsonld', 'lipdVersion': 1.3, 'tableType': 'meas', 'paleoData_tableName': 'paleo0measurement1', 'paleoData_missingValue': 'nan', 'paleoData_filename': '117_723A.Godad.2011.paleo0measurement1.csv', 'depth': [0.12, 0.22, 0.3, 0.4, 0.5, 0.59, 0.7, 0.84, 0.9, 0.99, 1.09, 1.19, 1.29, 1.39, 1.6, 1.72, 1.8, 1.9, 2.0, 2.09, 2.2, 2.33, 2.4, 2.49, 2.6, 2.7, 2.79, 2.9, 3.0, 3.1, 3.22, 3.3, 3.39, 3.49, 3.59, 3.7, 3.75, 3.9, 3.98, 4.1, 4.19, 4.3, 4.4, 4.5, 4.6, 4.72, 4.8, 4.89, 5.0, 5.09, 5.2, 5.33, 5.4, 5.49, 5.6, 5.7, 5.82, 5.9, 6.0, 6.1, 6.22, 6.3, 6.39, 6.49, 6.59, 6.7, 6.83, 6.9, 6.98, 7.08, 7.19, 7.29, 7.4], 'depthUnits': 'm', 'age': [500.0, 1090.0, 1200.0, 1370.0, 1740.0, 2070.0, 2500.0, 3090.0, 3340.0, 3710.0, 4130.0, 4540.0, 5020.0, 5520.0, 6590.0, 7210.0, 7630.0, 7990.0, 8120.0, 8240.0, 8410.0, 8760.0, 8950.0, 9190.0, 9480.0, 9750.0, 9980.0, 10240.0, 10490.0, 10730.0, 11090.0, 11380.0, 11700.0, 12060.0, 12420.0, 12820.0, 12990.0, 13530.0, 13820.0, 14250.0, 14570.0, 14970.0, 15330.0, 15690.0, 16050.0, 16480.0, 16760.0, 17090.0, 17480.0, 17810.0, 18200.0, 18440.0, 18570.0, 18740.0, 18940.0, 19120.0, 19340.0, 19490.0, 19680.0, 19860.0, 20080.0, 20230.0, 20400.0, 20580.0, 20770.0, 20970.0, 21210.0, 21340.0, 21480.0, 21670.0, 21870.0, 22060.0, 22260.0], 'ageUnits': 'BP', 'paleoData_TSid': 'R6K3Z9hZfeN', 'paleoData_hasMaxValue': 7.4, 'paleoData_hasMeanValue': 3.7801369863013696, 'paleoData_hasMedianValue': 3.75, 'paleoData_hasMinValue': 0.12, 'paleoData_units': 'm', 'paleoData_variableName': 'depth', 'paleoData_temperature12kUncertainty': 'NA', 'paleoData_hasMean': 3.7801, 'paleoData_hasMedian': 3.75, 'paleoData_hasMax': 7.4, 'paleoData_hasMin': 0.12, 'paleoData_hasResolution_hasMinValue': 110.0, 'paleoData_hasResolution_hasMaxValue': 1070.0, 'paleoData_hasResolution_hasMeanValue': 302.22222222222223, 'paleoData_hasResolution_hasMedianValue': 275.0, 'paleoData_number': 1, 'paleoData_values': [0.12, 0.22, 0.3, 0.4, 0.5, 0.59, 0.7, 0.84, 0.9, 0.99, 1.09, 1.19, 1.29, 1.39, 1.6, 1.72, 1.8, 1.9, 2.0, 2.09, 2.2, 2.33, 2.4, 2.49, 2.6, 2.7, 2.79, 2.9, 3.0, 3.1, 3.22, 3.3, 3.39, 3.49, 3.59, 3.7, 3.75, 3.9, 3.98, 4.1, 4.19, 4.3, 4.4, 4.5, 4.6, 4.72, 4.8, 4.89, 5.0, 5.09, 5.2, 5.33, 5.4, 5.49, 5.6, 5.7, 5.82, 5.9, 6.0, 6.1, 6.22, 6.3, 6.39, 6.49, 6.59, 6.7, 6.83, 6.9, 6.98, 7.08, 7.19, 7.29, 7.4]}\n",
            "{'mode': 'paleoData', 'time_id': 53.569659, 'archiveType': 'MarineSediment', 'createdBy': 'PalMod2LiPD', 'dataSetName': '117_723A.Godad.2011', 'lipdverseLink': 'http://lipdverse.org/Temp12k/1_0_2/117_723A.Godad.2011.html', 'maxYear': 22260, 'minYear': 500, 'nUniqueAges': 11, 'nUniqueOtherAges': 0, 'otherAgesPerKyr': '0', 'hasDepth': 1, 'nUniqueGoodAges': 11, 'agesPerKyr': 0.9565, 'lipdComplete': '100%', 'datasetId': 'tmeZsxjY5oSP1dOcgrJW', 'originalDataUrl': '10.1594/PANGAEA.775098,10.1594/PANGAEA.695217', 'changelog': [{'version': '1.0.5', 'lastVersion': '1.0.4', 'curator': 'nicholas', 'timestamp': '2022-05-18 00:24:16 UTC', 'changes': {'Paleo Column metadata': [[\"temperature (RL0SCEeYVWU): paleoData_mostRecentCompilations: '' has been replaced by 'Temp12k-1_0_2, HoloceneAbruptChange-0_10_0'\"], [\"temperature (RVwo44cKoew): paleoData_mostRecentCompilations: '' has been replaced by 'HoloceneAbruptChange-0_10_0'\"]], 'Paleo Interpretation metadata': [[\"planktic.d18O (Rwjoz3Y1iEf): interpretation1_scope: 'climate' has been replaced by ''\"]]}}, {'version': '1.0.4', 'lastVersion': '1.0.3', 'curator': 'nick', 'timestamp': '2021-03-17 01:51:28 UTC', 'changes': {'Paleo Interpretation metadata': [[\"planktic.d18O (Rwjoz3Y1iEf): interpretation1_scope: '' has been replaced by 'climate'\"]]}}, {'version': '1.0.3', 'lastVersion': '1.0.2', 'curator': 'nick', 'timestamp': '2021-01-18 21:36:43 UTC', 'changes': {'Paleo Interpretation metadata': [[\"planktic.d18O (Rwjoz3Y1iEf): interpretation1_scope: 'climate' has been replaced by ''\"]]}}, {'version': '1.0.2', 'lastVersion': '1.0.1', 'curator': 'nick', 'timestamp': '2021-01-15 18:46:25 UTC', 'changes': {'Paleo Interpretation metadata': [[\"planktic.d18O (Rwjoz3Y1iEf): interpretation1_scope: '' has been replaced by 'climate'\"]]}}, {'version': '1.0.1', 'lastVersion': '1.0.0', 'curator': 'nick', 'timestamp': '2020-10-08 12:40:16 UTC', 'changes': {'Paleo Column metadata': [[\"temperature (RVwo44cKoew): paleoData_proxyGeneral: '' has been replaced by 'other microfossil'\"]]}}, {'version': '1.0.0', 'curator': 'nick', 'timestamp': '2020-08-21 15:34:35 UTC', 'notes': 'This marks the creation of the changelog, and marks the status of this dataset as of Temp12k version 1.0.1', 'changes': {'Setup': [['Changelog created']]}}], 'pub1_author': 'Godad, Shital P.; Naidu, Pothuri Divakar; Malmgren, Bjorn A.', 'pub1_doi': '10.1016/j.marmicro.2010.09.006', 'pub1_issue': '2-Jan', 'pub1_journal': 'Marine Micropaleontology', 'pub1_page': '25-29', 'pub1_pubDataUrl': 'doi.org', 'pub1_publisher': 'Elsevier BV', 'pub1_title': 'Sea surface temperature changes during May and August in the western Arabian Sea over the last 22 kyr: Implications as to shifting of the upwelling season', 'pub1_type': 'article-journal', 'pub1_volume': '78', 'pub1_year': 2011, 'pub1_citeKey': 'T3EIXLSV', 'pub1_pages': '25   29', 'pub2_author': 'Naidu, Pothuri Divakar;Niitsuma, Nobuaki', 'pub2_doi': '10.1016/S0031-0182(03)00629-1', 'pub2_issue': '1-2', 'pub2_journal': 'Palaeogeography, Palaeoclimatology, Palaeoecology', 'pub2_page': '85-95', 'pub2_pubDataUrl': 'doi.org', 'pub2_publisher': 'Elsevier BV', 'pub2_title': 'Carbon and oxygen isotope time series records of planktonic and benthic foraminifera from the Arabian Sea: implications on upwelling processes', 'pub2_type': 'article-journal', 'pub2_volume': '202', 'pub2_year': 2011, 'pub3_author': 'Naidu, Pothuri Divakar;Malmgren, Björn A.', 'pub3_doi': '10.1029/95GL02558', 'pub3_issue': '17', 'pub3_journal': 'Geophysical Research Letters', 'pub3_page': '2361-2364', 'pub3_pubDataUrl': 'doi.org', 'pub3_publisher': 'American Geophysical Union (AGU)', 'pub3_title': 'A 2,200 years periodicity in the Asian Monsoon System', 'pub3_type': 'article-journal', 'pub3_volume': '22', 'pub3_year': 2011, 'pub4_author': 'Gupta, Anil K.;Anderson, David M.;Overpeck, Jonathan T.', 'pub4_doi': '10.1038/nature01340', 'pub4_issue': '6921', 'pub4_journal': 'Nature', 'pub4_page': '354-357', 'pub4_pubDataUrl': 'doi.org', 'pub4_publisher': 'Springer Nature', 'pub4_title': 'Abrupt changes in the Asian southwest monsoon during the Holocene and their links to the North Atlantic Ocean', 'pub4_type': 'article-journal', 'pub4_volume': '421', 'pub4_year': 2011, 'geo_meanLon': 57.609, 'geo_meanLat': 18.0518, 'geo_meanElev': -806.0, 'geo_notes': 'more data exist for 723, but these cannot be merged because not sufficient information available on composite depths', 'geo_siteName': '117_723A', 'geo_countryOcean': 'Indian Ocean>Arabian Sea', 'geo_gcmdLocation': 'Indian Ocean>Arabian Sea', '@context': 'context.jsonld', 'lipdVersion': 1.3, 'tableType': 'meas', 'paleoData_tableName': 'paleo0measurement1', 'paleoData_missingValue': 'nan', 'paleoData_filename': '117_723A.Godad.2011.paleo0measurement1.csv', 'depth': [0.12, 0.22, 0.3, 0.4, 0.5, 0.59, 0.7, 0.84, 0.9, 0.99, 1.09, 1.19, 1.29, 1.39, 1.6, 1.72, 1.8, 1.9, 2.0, 2.09, 2.2, 2.33, 2.4, 2.49, 2.6, 2.7, 2.79, 2.9, 3.0, 3.1, 3.22, 3.3, 3.39, 3.49, 3.59, 3.7, 3.75, 3.9, 3.98, 4.1, 4.19, 4.3, 4.4, 4.5, 4.6, 4.72, 4.8, 4.89, 5.0, 5.09, 5.2, 5.33, 5.4, 5.49, 5.6, 5.7, 5.82, 5.9, 6.0, 6.1, 6.22, 6.3, 6.39, 6.49, 6.59, 6.7, 6.83, 6.9, 6.98, 7.08, 7.19, 7.29, 7.4], 'depthUnits': 'm', 'age': [500.0, 1090.0, 1200.0, 1370.0, 1740.0, 2070.0, 2500.0, 3090.0, 3340.0, 3710.0, 4130.0, 4540.0, 5020.0, 5520.0, 6590.0, 7210.0, 7630.0, 7990.0, 8120.0, 8240.0, 8410.0, 8760.0, 8950.0, 9190.0, 9480.0, 9750.0, 9980.0, 10240.0, 10490.0, 10730.0, 11090.0, 11380.0, 11700.0, 12060.0, 12420.0, 12820.0, 12990.0, 13530.0, 13820.0, 14250.0, 14570.0, 14970.0, 15330.0, 15690.0, 16050.0, 16480.0, 16760.0, 17090.0, 17480.0, 17810.0, 18200.0, 18440.0, 18570.0, 18740.0, 18940.0, 19120.0, 19340.0, 19490.0, 19680.0, 19860.0, 20080.0, 20230.0, 20400.0, 20580.0, 20770.0, 20970.0, 21210.0, 21340.0, 21480.0, 21670.0, 21870.0, 22060.0, 22260.0], 'ageUnits': 'BP', 'paleoData_TSid': 'RxYtlVdChDE', 'paleoData_description': 'Age_ka_BP', 'paleoData_hasDataLink': 'https://doi.pangaea.de/10.1594/PANGAEA.775098', 'paleoData_hasMaxValue': 22260.0, 'paleoData_hasMeanValue': 12810.547945205479, 'paleoData_hasMedianValue': 12990.0, 'paleoData_hasMinValue': 500.0, 'paleoData_hasPubDOI': '10.1016/j.marmicro.2010.09.006', 'paleoData_units': 'BP', 'paleoData_unitsOriginal': 'yr bp', 'paleoData_variableName': 'age', 'paleoData_temperature12kUncertainty': 'NA', 'paleoData_hasMean': 12810.5479, 'paleoData_hasMedian': 19860, 'paleoData_hasMax': 22260, 'paleoData_hasMin': 500, 'paleoData_hasResolution_hasMinValue': 'nan', 'paleoData_hasResolution_hasMaxValue': 'nan', 'paleoData_hasResolution_hasMeanValue': 'nan', 'paleoData_hasResolution_hasMedianValue': 'nan', 'paleoData_number': 2, 'paleoData_values': [500.0, 1090.0, 1200.0, 1370.0, 1740.0, 2070.0, 2500.0, 3090.0, 3340.0, 3710.0, 4130.0, 4540.0, 5020.0, 5520.0, 6590.0, 7210.0, 7630.0, 7990.0, 8120.0, 8240.0, 8410.0, 8760.0, 8950.0, 9190.0, 9480.0, 9750.0, 9980.0, 10240.0, 10490.0, 10730.0, 11090.0, 11380.0, 11700.0, 12060.0, 12420.0, 12820.0, 12990.0, 13530.0, 13820.0, 14250.0, 14570.0, 14970.0, 15330.0, 15690.0, 16050.0, 16480.0, 16760.0, 17090.0, 17480.0, 17810.0, 18200.0, 18440.0, 18570.0, 18740.0, 18940.0, 19120.0, 19340.0, 19490.0, 19680.0, 19860.0, 20080.0, 20230.0, 20400.0, 20580.0, 20770.0, 20970.0, 21210.0, 21340.0, 21480.0, 21670.0, 21870.0, 22060.0, 22260.0]}\n"
          ]
        }
      ],
      "source": [
        "ts_list = data['TS']\n",
        "print(\"First few elements in 'TS' list:\")\n",
        "for element in ts_list[:5]:  # Adjust the number of elements to display as needed\n",
        "    print(element)"
      ]
    },
    {
      "cell_type": "code",
      "execution_count": null,
      "metadata": {},
      "outputs": [
        {
          "data": {
            "text/plain": [
              "5203"
            ]
          },
          "execution_count": 45,
          "metadata": {},
          "output_type": "execute_result"
        }
      ],
      "source": [
        "len(ts_list)"
      ]
    },
    {
      "cell_type": "code",
      "execution_count": 117,
      "metadata": {},
      "outputs": [
        {
          "data": {
            "text/plain": [
              "['magma',\n",
              " 'inferno',\n",
              " 'plasma',\n",
              " 'viridis',\n",
              " 'cividis',\n",
              " 'twilight',\n",
              " 'twilight_shifted',\n",
              " 'turbo',\n",
              " 'Blues',\n",
              " 'BrBG',\n",
              " 'BuGn',\n",
              " 'BuPu',\n",
              " 'CMRmap',\n",
              " 'GnBu',\n",
              " 'Greens',\n",
              " 'Greys',\n",
              " 'OrRd',\n",
              " 'Oranges',\n",
              " 'PRGn',\n",
              " 'PiYG',\n",
              " 'PuBu',\n",
              " 'PuBuGn',\n",
              " 'PuOr',\n",
              " 'PuRd',\n",
              " 'Purples',\n",
              " 'RdBu',\n",
              " 'RdGy',\n",
              " 'RdPu',\n",
              " 'RdYlBu',\n",
              " 'RdYlGn',\n",
              " 'Reds',\n",
              " 'Spectral',\n",
              " 'Wistia',\n",
              " 'YlGn',\n",
              " 'YlGnBu',\n",
              " 'YlOrBr',\n",
              " 'YlOrRd',\n",
              " 'afmhot',\n",
              " 'autumn',\n",
              " 'binary',\n",
              " 'bone',\n",
              " 'brg',\n",
              " 'bwr',\n",
              " 'cool',\n",
              " 'coolwarm',\n",
              " 'copper',\n",
              " 'cubehelix',\n",
              " 'flag',\n",
              " 'gist_earth',\n",
              " 'gist_gray',\n",
              " 'gist_heat',\n",
              " 'gist_ncar',\n",
              " 'gist_rainbow',\n",
              " 'gist_stern',\n",
              " 'gist_yarg',\n",
              " 'gnuplot',\n",
              " 'gnuplot2',\n",
              " 'gray',\n",
              " 'hot',\n",
              " 'hsv',\n",
              " 'jet',\n",
              " 'nipy_spectral',\n",
              " 'ocean',\n",
              " 'pink',\n",
              " 'prism',\n",
              " 'rainbow',\n",
              " 'seismic',\n",
              " 'spring',\n",
              " 'summer',\n",
              " 'terrain',\n",
              " 'winter',\n",
              " 'Accent',\n",
              " 'Dark2',\n",
              " 'Paired',\n",
              " 'Pastel1',\n",
              " 'Pastel2',\n",
              " 'Set1',\n",
              " 'Set2',\n",
              " 'Set3',\n",
              " 'tab10',\n",
              " 'tab20',\n",
              " 'tab20b',\n",
              " 'tab20c',\n",
              " 'grey',\n",
              " 'gist_grey',\n",
              " 'gist_yerg',\n",
              " 'Grays',\n",
              " 'magma_r',\n",
              " 'inferno_r',\n",
              " 'plasma_r',\n",
              " 'viridis_r',\n",
              " 'cividis_r',\n",
              " 'twilight_r',\n",
              " 'twilight_shifted_r',\n",
              " 'turbo_r',\n",
              " 'Blues_r',\n",
              " 'BrBG_r',\n",
              " 'BuGn_r',\n",
              " 'BuPu_r',\n",
              " 'CMRmap_r',\n",
              " 'GnBu_r',\n",
              " 'Greens_r',\n",
              " 'Greys_r',\n",
              " 'OrRd_r',\n",
              " 'Oranges_r',\n",
              " 'PRGn_r',\n",
              " 'PiYG_r',\n",
              " 'PuBu_r',\n",
              " 'PuBuGn_r',\n",
              " 'PuOr_r',\n",
              " 'PuRd_r',\n",
              " 'Purples_r',\n",
              " 'RdBu_r',\n",
              " 'RdGy_r',\n",
              " 'RdPu_r',\n",
              " 'RdYlBu_r',\n",
              " 'RdYlGn_r',\n",
              " 'Reds_r',\n",
              " 'Spectral_r',\n",
              " 'Wistia_r',\n",
              " 'YlGn_r',\n",
              " 'YlGnBu_r',\n",
              " 'YlOrBr_r',\n",
              " 'YlOrRd_r',\n",
              " 'afmhot_r',\n",
              " 'autumn_r',\n",
              " 'binary_r',\n",
              " 'bone_r',\n",
              " 'brg_r',\n",
              " 'bwr_r',\n",
              " 'cool_r',\n",
              " 'coolwarm_r',\n",
              " 'copper_r',\n",
              " 'cubehelix_r',\n",
              " 'flag_r',\n",
              " 'gist_earth_r',\n",
              " 'gist_gray_r',\n",
              " 'gist_heat_r',\n",
              " 'gist_ncar_r',\n",
              " 'gist_rainbow_r',\n",
              " 'gist_stern_r',\n",
              " 'gist_yarg_r',\n",
              " 'gnuplot_r',\n",
              " 'gnuplot2_r',\n",
              " 'gray_r',\n",
              " 'hot_r',\n",
              " 'hsv_r',\n",
              " 'jet_r',\n",
              " 'nipy_spectral_r',\n",
              " 'ocean_r',\n",
              " 'pink_r',\n",
              " 'prism_r',\n",
              " 'rainbow_r',\n",
              " 'seismic_r',\n",
              " 'spring_r',\n",
              " 'summer_r',\n",
              " 'terrain_r',\n",
              " 'winter_r',\n",
              " 'Accent_r',\n",
              " 'Dark2_r',\n",
              " 'Paired_r',\n",
              " 'Pastel1_r',\n",
              " 'Pastel2_r',\n",
              " 'Set1_r',\n",
              " 'Set2_r',\n",
              " 'Set3_r',\n",
              " 'tab10_r',\n",
              " 'tab20_r',\n",
              " 'tab20b_r',\n",
              " 'tab20c_r']"
            ]
          },
          "execution_count": 117,
          "metadata": {},
          "output_type": "execute_result"
        }
      ],
      "source": [
        "from matplotlib import colormaps\n",
        "list(colormaps)"
      ]
    },
    {
      "cell_type": "code",
      "execution_count": null,
      "metadata": {},
      "outputs": [],
      "source": []
    }
  ],
  "metadata": {
    "colab": {
      "provenance": []
    },
    "kernelspec": {
      "display_name": ".venv",
      "language": "python",
      "name": "python3"
    },
    "language_info": {
      "codemirror_mode": {
        "name": "ipython",
        "version": 3
      },
      "file_extension": ".py",
      "mimetype": "text/x-python",
      "name": "python",
      "nbconvert_exporter": "python",
      "pygments_lexer": "ipython3",
      "version": "3.12.2"
    }
  },
  "nbformat": 4,
  "nbformat_minor": 0
}
